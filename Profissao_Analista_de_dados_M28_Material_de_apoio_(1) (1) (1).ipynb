{
  "nbformat": 4,
  "nbformat_minor": 0,
  "metadata": {
    "colab": {
      "provenance": [],
      "toc_visible": true
    },
    "kernelspec": {
      "name": "python3",
      "display_name": "Python 3"
    }
  },
  "cells": [
    {
      "cell_type": "markdown",
      "metadata": {
        "id": "KJqp9AANOCtf"
      },
      "source": [
        "<img src=\"https://raw.githubusercontent.com/andre-marcos-perez/ebac-course-utils/main/media/logo/newebac_logo_black_half.png\" alt=\"ebac-logo\">\n",
        "\n",
        "---\n",
        "\n",
        "# **Módulo** | Análise de Dados: COVID-19 Dashboard\n",
        "Caderno de **Aula**<br>\n",
        "Professor [André Perez](https://www.linkedin.com/in/andremarcosperez/)\n",
        "\n",
        "---"
      ]
    },
    {
      "cell_type": "markdown",
      "metadata": {
        "id": "d9jDtUbDOE1-"
      },
      "source": [
        "# **Tópicos**\n",
        "\n",
        "<ol type=\"1\">\n",
        "  <li>Introdução;</li>\n",
        "  <li>Análise Exploratória de Dados;</li>\n",
        "  <li>Visualização Interativa de Dados;</li>\n",
        "  <li>Storytelling.</li>\n",
        "</ol>"
      ]
    },
    {
      "cell_type": "markdown",
      "metadata": {
        "id": "SmoHgt-lwkpD"
      },
      "source": [
        "---"
      ]
    },
    {
      "cell_type": "markdown",
      "metadata": {
        "id": "GABI6OW8OfQ2"
      },
      "source": [
        "# **Aulas**"
      ]
    },
    {
      "cell_type": "markdown",
      "metadata": {
        "id": "muD1vxozykSC"
      },
      "source": [
        "## 1\\. Introdução"
      ]
    },
    {
      "cell_type": "markdown",
      "metadata": {
        "id": "MHESfVrl-rPV"
      },
      "source": [
        "### **1.1. TLDR**"
      ]
    },
    {
      "cell_type": "markdown",
      "source": [
        " - **Dashboard**:\n",
        "  - Google Data Studio (https://lookerstudio.google.com/reporting/07366bc2-e304-4742-8083-2b0f4d65676a).\n",
        " - **Processamento**:\n",
        "  - Kaggle Notebook (https://www.kaggle.com/code/linconbarasinosilva/notebook68763b1369).\n",
        " - **Fontes**:\n",
        "  - Casos pela universidade John Hopkins ([link](https://github.com/CSSEGISandData/COVID-19/tree/master/csse_covid_19_data/csse_covid_19_daily_reports));\n",
        "  - Vacinação pela universidade de Oxford ([link](https://covid.ourworldindata.org/data/owid-covid-data.csv))."
      ],
      "metadata": {
        "id": "Kbt89uW55ynj"
      }
    },
    {
      "cell_type": "markdown",
      "source": [
        "### **1.2. Pandemia Coronavírus 2019**"
      ],
      "metadata": {
        "id": "uBq6aQxeB4r0"
      }
    },
    {
      "cell_type": "markdown",
      "source": [
        "> A COVID-19 é uma infecção respiratória aguda causada pelo coronavírus SARS-CoV-2, potencialmente grave, de elevada transmissibilidade e de distribuição global. Fonte: Governo brasileiro ([link](https://www.gov.br/saude/pt-br/coronavirus/o-que-e-o-coronavirus))."
      ],
      "metadata": {
        "id": "caKO04G0tzxc"
      }
    },
    {
      "cell_type": "markdown",
      "metadata": {
        "id": "UrsxlQhH7WrD"
      },
      "source": [
        "A disponibilidade de dados sobre a evolução da pandemia no tempo em uma determinada região geográfica é fundamental para o seu combate! Este projeto busca construir um dashboard de dados para exploração e visualização interativa de dados sobre o avanço de casos e da vacinação do Brasil. O processamento de dados está neste `link` e o dashboard, neste `link`."
      ]
    },
    {
      "cell_type": "markdown",
      "source": [
        "### **1.3. Dados**"
      ],
      "metadata": {
        "id": "oo-6n3_GH0CT"
      }
    },
    {
      "cell_type": "markdown",
      "source": [
        "Os dados sobre **casos da COVID-19** são compilados pelo centro de ciência de sistemas e engenharia da universidade americana **John Hopkins** ([link](https://www.jhu.edu)). Os dados são atualizados diariamente deste janeiro de 2020 com uma granularidade temporal de dias e geográfica de regiões de países (estados, condados, etc.). O website do projeto pode ser acessado neste [link](https://systems.jhu.edu/research/public-health/ncov/) enquanto os dados, neste [link](https://github.com/CSSEGISandData/COVID-19/tree/master/csse_covid_19_data/csse_covid_19_daily_reports). Abaixo estão descritos os dados derivados do seu processamento."
      ],
      "metadata": {
        "id": "q9Kj_d3c3Hmd"
      }
    },
    {
      "cell_type": "markdown",
      "source": [
        " - **date**: data de referência;\n",
        " - **state**: estado;\n",
        " - **country**: país;\n",
        " - **population**: população estimada;\n",
        " - **confirmed**: número acumulado de infectados;\n",
        " - **confirmed_1d**: número diário de infectados;\n",
        " - **confirmed_moving_avg_7d**: média móvel de 7 dias do número diário de infectados;\n",
        " - **confirmed_moving_avg_7d_rate_14d**: média móvel de 7 dias dividido pela média móvel de 7 dias de 14 dias atrás;\n",
        " - **deaths**: número acumulado de mortos;\n",
        " - **deaths_1d**: número diário de mortos;\n",
        " - **deaths_moving_avg_7d**: média móvel de 7 dias do número diário de mortos;\n",
        " - **deaths_moving_avg_7d**: média móvel de 7 dias dividido pela média móvel de 7 dias de 14 dias atrás;\n",
        " - **month**: mês de referência;\n",
        " - **year**: ano de referência."
      ],
      "metadata": {
        "id": "7hKS37TRwvG7"
      }
    },
    {
      "cell_type": "markdown",
      "source": [
        "Os dados sobre **vacinação da COVID-19** são compilados pelo projeto Nosso Mundo em Dados (*Our World in Data* ou OWID) da universidade britânica de **Oxford** ([link](https://www.ox.ac.uk)). Os dados são **atualizados diariamente** deste janeiro de 2020 com uma **granularidade temporal de dias e geográfica de países**. O website do projeto pode ser acessado neste [link](https://ourworldindata.org) enquanto os dados, neste [link](https://covid.ourworldindata.org/data/owid-covid-data.csv). Abaixo estão descritos os dados derivados do seu processamento."
      ],
      "metadata": {
        "id": "Io6Yn0Yi7woI"
      }
    },
    {
      "cell_type": "markdown",
      "source": [
        " - **date**: data de referência;\n",
        " - **country**: país;\n",
        " - **population**: população estimada;\n",
        " - **total**: número acumulado de doses administradas;\n",
        " - **one_shot**: número acumulado de pessoas com uma dose;\n",
        " - **one_shot_perc**: número acumulado relativo de pessoas com uma dose;\n",
        " - **two_shots**: número acumulado de pessoas com duas doses;\n",
        " - **two_shot_perc**: número acumulado relativo de pessoas com duas doses;\n",
        " - **three_shots**: número acumulado de pessoas com três doses;\n",
        " - **three_shot_perc**: número acumulado relativo de pessoas com três doses;\n",
        " - **month**: mês de referência;\n",
        " - **year**: ano de referência."
      ],
      "metadata": {
        "id": "oF5oDfm07woK"
      }
    },
    {
      "cell_type": "markdown",
      "source": [
        "## 2\\. Análise Exploratória de Dados"
      ],
      "metadata": {
        "id": "EkVv4SCzIrxS"
      }
    },
    {
      "cell_type": "markdown",
      "source": [
        "Nesta sessão vamos utilizar os seguintes pacotes Python para processar os dados bruto em um formato adequado para um painel para exploração interativa de dados."
      ],
      "metadata": {
        "id": "5qb_q_g0W1xq"
      }
    },
    {
      "cell_type": "code",
      "metadata": {
        "id": "1X3WC_QYUlAz"
      },
      "source": [
        "import math\n",
        "from typing import Iterator\n",
        "from datetime import datetime, timedelta\n",
        "\n",
        "import numpy as np\n",
        "import pandas as pd"
      ],
      "execution_count": 1,
      "outputs": []
    },
    {
      "cell_type": "markdown",
      "source": [
        "### **2.1. Casos**"
      ],
      "metadata": {
        "id": "aP2Dlk9kOqCf"
      }
    },
    {
      "cell_type": "markdown",
      "source": [
        "Vamos processar os dados de **casos** da universidade John Hopkins.\n",
        "\n"
      ],
      "metadata": {
        "id": "8L5p6NGWaeSi"
      }
    },
    {
      "cell_type": "markdown",
      "source": [
        "#### **2.1.1. Extração**"
      ],
      "metadata": {
        "id": "Nd159jDC8Dm-"
      }
    },
    {
      "cell_type": "markdown",
      "source": [
        "O dado está compilado em um arquivo por dia, exemplo para 2021/12/01."
      ],
      "metadata": {
        "id": "QvRDLv8xVm7Y"
      }
    },
    {
      "cell_type": "code",
      "source": [
        "cases = pd.read_csv('https://raw.githubusercontent.com/CSSEGISandData/COVID-19/master/csse_covid_19_data/csse_covid_19_daily_reports/01-12-2021.csv', sep=',')"
      ],
      "metadata": {
        "id": "GmsdWZKzKWup"
      },
      "execution_count": null,
      "outputs": []
    },
    {
      "cell_type": "code",
      "source": [
        "cases.head()"
      ],
      "metadata": {
        "id": "bHg1MA4AKaeC",
        "colab": {
          "base_uri": "https://localhost:8080/",
          "height": 313
        },
        "outputId": "4b9d3192-82ec-4a01-9aeb-7174d3123e3e"
      },
      "execution_count": null,
      "outputs": [
        {
          "output_type": "execute_result",
          "data": {
            "text/plain": [
              "   FIPS Admin2 Province_State Country_Region          Last_Update       Lat  \\\n",
              "0   NaN    NaN            NaN    Afghanistan  2021-01-13 05:22:15  33.93911   \n",
              "1   NaN    NaN            NaN        Albania  2021-01-13 05:22:15  41.15330   \n",
              "2   NaN    NaN            NaN        Algeria  2021-01-13 05:22:15  28.03390   \n",
              "3   NaN    NaN            NaN        Andorra  2021-01-13 05:22:15  42.50630   \n",
              "4   NaN    NaN            NaN         Angola  2021-01-13 05:22:15 -11.20270   \n",
              "\n",
              "       Long_  Confirmed  Deaths  Recovered  Active Combined_Key  \\\n",
              "0  67.709953      53584    2301      44608    6675  Afghanistan   \n",
              "1  20.168300      64627    1252      38421   24954      Albania   \n",
              "2   1.659600     102641    2816      69608   30217      Algeria   \n",
              "3   1.521800       8682      86       7930     666      Andorra   \n",
              "4  17.873900      18343     422      15512    2409       Angola   \n",
              "\n",
              "   Incident_Rate  Case_Fatality_Ratio  \n",
              "0     137.647787             4.294192  \n",
              "1    2245.708527             1.937271  \n",
              "2     234.067409             2.743543  \n",
              "3   11236.653077             0.990555  \n",
              "4      55.811022             2.300605  "
            ],
            "text/html": [
              "\n",
              "  <div id=\"df-45a4e52d-58ac-47d8-b589-7b994abefd65\" class=\"colab-df-container\">\n",
              "    <div>\n",
              "<style scoped>\n",
              "    .dataframe tbody tr th:only-of-type {\n",
              "        vertical-align: middle;\n",
              "    }\n",
              "\n",
              "    .dataframe tbody tr th {\n",
              "        vertical-align: top;\n",
              "    }\n",
              "\n",
              "    .dataframe thead th {\n",
              "        text-align: right;\n",
              "    }\n",
              "</style>\n",
              "<table border=\"1\" class=\"dataframe\">\n",
              "  <thead>\n",
              "    <tr style=\"text-align: right;\">\n",
              "      <th></th>\n",
              "      <th>FIPS</th>\n",
              "      <th>Admin2</th>\n",
              "      <th>Province_State</th>\n",
              "      <th>Country_Region</th>\n",
              "      <th>Last_Update</th>\n",
              "      <th>Lat</th>\n",
              "      <th>Long_</th>\n",
              "      <th>Confirmed</th>\n",
              "      <th>Deaths</th>\n",
              "      <th>Recovered</th>\n",
              "      <th>Active</th>\n",
              "      <th>Combined_Key</th>\n",
              "      <th>Incident_Rate</th>\n",
              "      <th>Case_Fatality_Ratio</th>\n",
              "    </tr>\n",
              "  </thead>\n",
              "  <tbody>\n",
              "    <tr>\n",
              "      <th>0</th>\n",
              "      <td>NaN</td>\n",
              "      <td>NaN</td>\n",
              "      <td>NaN</td>\n",
              "      <td>Afghanistan</td>\n",
              "      <td>2021-01-13 05:22:15</td>\n",
              "      <td>33.93911</td>\n",
              "      <td>67.709953</td>\n",
              "      <td>53584</td>\n",
              "      <td>2301</td>\n",
              "      <td>44608</td>\n",
              "      <td>6675</td>\n",
              "      <td>Afghanistan</td>\n",
              "      <td>137.647787</td>\n",
              "      <td>4.294192</td>\n",
              "    </tr>\n",
              "    <tr>\n",
              "      <th>1</th>\n",
              "      <td>NaN</td>\n",
              "      <td>NaN</td>\n",
              "      <td>NaN</td>\n",
              "      <td>Albania</td>\n",
              "      <td>2021-01-13 05:22:15</td>\n",
              "      <td>41.15330</td>\n",
              "      <td>20.168300</td>\n",
              "      <td>64627</td>\n",
              "      <td>1252</td>\n",
              "      <td>38421</td>\n",
              "      <td>24954</td>\n",
              "      <td>Albania</td>\n",
              "      <td>2245.708527</td>\n",
              "      <td>1.937271</td>\n",
              "    </tr>\n",
              "    <tr>\n",
              "      <th>2</th>\n",
              "      <td>NaN</td>\n",
              "      <td>NaN</td>\n",
              "      <td>NaN</td>\n",
              "      <td>Algeria</td>\n",
              "      <td>2021-01-13 05:22:15</td>\n",
              "      <td>28.03390</td>\n",
              "      <td>1.659600</td>\n",
              "      <td>102641</td>\n",
              "      <td>2816</td>\n",
              "      <td>69608</td>\n",
              "      <td>30217</td>\n",
              "      <td>Algeria</td>\n",
              "      <td>234.067409</td>\n",
              "      <td>2.743543</td>\n",
              "    </tr>\n",
              "    <tr>\n",
              "      <th>3</th>\n",
              "      <td>NaN</td>\n",
              "      <td>NaN</td>\n",
              "      <td>NaN</td>\n",
              "      <td>Andorra</td>\n",
              "      <td>2021-01-13 05:22:15</td>\n",
              "      <td>42.50630</td>\n",
              "      <td>1.521800</td>\n",
              "      <td>8682</td>\n",
              "      <td>86</td>\n",
              "      <td>7930</td>\n",
              "      <td>666</td>\n",
              "      <td>Andorra</td>\n",
              "      <td>11236.653077</td>\n",
              "      <td>0.990555</td>\n",
              "    </tr>\n",
              "    <tr>\n",
              "      <th>4</th>\n",
              "      <td>NaN</td>\n",
              "      <td>NaN</td>\n",
              "      <td>NaN</td>\n",
              "      <td>Angola</td>\n",
              "      <td>2021-01-13 05:22:15</td>\n",
              "      <td>-11.20270</td>\n",
              "      <td>17.873900</td>\n",
              "      <td>18343</td>\n",
              "      <td>422</td>\n",
              "      <td>15512</td>\n",
              "      <td>2409</td>\n",
              "      <td>Angola</td>\n",
              "      <td>55.811022</td>\n",
              "      <td>2.300605</td>\n",
              "    </tr>\n",
              "  </tbody>\n",
              "</table>\n",
              "</div>\n",
              "    <div class=\"colab-df-buttons\">\n",
              "\n",
              "  <div class=\"colab-df-container\">\n",
              "    <button class=\"colab-df-convert\" onclick=\"convertToInteractive('df-45a4e52d-58ac-47d8-b589-7b994abefd65')\"\n",
              "            title=\"Convert this dataframe to an interactive table.\"\n",
              "            style=\"display:none;\">\n",
              "\n",
              "  <svg xmlns=\"http://www.w3.org/2000/svg\" height=\"24px\" viewBox=\"0 -960 960 960\">\n",
              "    <path d=\"M120-120v-720h720v720H120Zm60-500h600v-160H180v160Zm220 220h160v-160H400v160Zm0 220h160v-160H400v160ZM180-400h160v-160H180v160Zm440 0h160v-160H620v160ZM180-180h160v-160H180v160Zm440 0h160v-160H620v160Z\"/>\n",
              "  </svg>\n",
              "    </button>\n",
              "\n",
              "  <style>\n",
              "    .colab-df-container {\n",
              "      display:flex;\n",
              "      gap: 12px;\n",
              "    }\n",
              "\n",
              "    .colab-df-convert {\n",
              "      background-color: #E8F0FE;\n",
              "      border: none;\n",
              "      border-radius: 50%;\n",
              "      cursor: pointer;\n",
              "      display: none;\n",
              "      fill: #1967D2;\n",
              "      height: 32px;\n",
              "      padding: 0 0 0 0;\n",
              "      width: 32px;\n",
              "    }\n",
              "\n",
              "    .colab-df-convert:hover {\n",
              "      background-color: #E2EBFA;\n",
              "      box-shadow: 0px 1px 2px rgba(60, 64, 67, 0.3), 0px 1px 3px 1px rgba(60, 64, 67, 0.15);\n",
              "      fill: #174EA6;\n",
              "    }\n",
              "\n",
              "    .colab-df-buttons div {\n",
              "      margin-bottom: 4px;\n",
              "    }\n",
              "\n",
              "    [theme=dark] .colab-df-convert {\n",
              "      background-color: #3B4455;\n",
              "      fill: #D2E3FC;\n",
              "    }\n",
              "\n",
              "    [theme=dark] .colab-df-convert:hover {\n",
              "      background-color: #434B5C;\n",
              "      box-shadow: 0px 1px 3px 1px rgba(0, 0, 0, 0.15);\n",
              "      filter: drop-shadow(0px 1px 2px rgba(0, 0, 0, 0.3));\n",
              "      fill: #FFFFFF;\n",
              "    }\n",
              "  </style>\n",
              "\n",
              "    <script>\n",
              "      const buttonEl =\n",
              "        document.querySelector('#df-45a4e52d-58ac-47d8-b589-7b994abefd65 button.colab-df-convert');\n",
              "      buttonEl.style.display =\n",
              "        google.colab.kernel.accessAllowed ? 'block' : 'none';\n",
              "\n",
              "      async function convertToInteractive(key) {\n",
              "        const element = document.querySelector('#df-45a4e52d-58ac-47d8-b589-7b994abefd65');\n",
              "        const dataTable =\n",
              "          await google.colab.kernel.invokeFunction('convertToInteractive',\n",
              "                                                    [key], {});\n",
              "        if (!dataTable) return;\n",
              "\n",
              "        const docLinkHtml = 'Like what you see? Visit the ' +\n",
              "          '<a target=\"_blank\" href=https://colab.research.google.com/notebooks/data_table.ipynb>data table notebook</a>'\n",
              "          + ' to learn more about interactive tables.';\n",
              "        element.innerHTML = '';\n",
              "        dataTable['output_type'] = 'display_data';\n",
              "        await google.colab.output.renderOutput(dataTable, element);\n",
              "        const docLink = document.createElement('div');\n",
              "        docLink.innerHTML = docLinkHtml;\n",
              "        element.appendChild(docLink);\n",
              "      }\n",
              "    </script>\n",
              "  </div>\n",
              "\n",
              "\n",
              "<div id=\"df-0cb1452d-92c4-46a6-b777-7d66c95bb528\">\n",
              "  <button class=\"colab-df-quickchart\" onclick=\"quickchart('df-0cb1452d-92c4-46a6-b777-7d66c95bb528')\"\n",
              "            title=\"Suggest charts.\"\n",
              "            style=\"display:none;\">\n",
              "\n",
              "<svg xmlns=\"http://www.w3.org/2000/svg\" height=\"24px\"viewBox=\"0 0 24 24\"\n",
              "     width=\"24px\">\n",
              "    <g>\n",
              "        <path d=\"M19 3H5c-1.1 0-2 .9-2 2v14c0 1.1.9 2 2 2h14c1.1 0 2-.9 2-2V5c0-1.1-.9-2-2-2zM9 17H7v-7h2v7zm4 0h-2V7h2v10zm4 0h-2v-4h2v4z\"/>\n",
              "    </g>\n",
              "</svg>\n",
              "  </button>\n",
              "\n",
              "<style>\n",
              "  .colab-df-quickchart {\n",
              "      --bg-color: #E8F0FE;\n",
              "      --fill-color: #1967D2;\n",
              "      --hover-bg-color: #E2EBFA;\n",
              "      --hover-fill-color: #174EA6;\n",
              "      --disabled-fill-color: #AAA;\n",
              "      --disabled-bg-color: #DDD;\n",
              "  }\n",
              "\n",
              "  [theme=dark] .colab-df-quickchart {\n",
              "      --bg-color: #3B4455;\n",
              "      --fill-color: #D2E3FC;\n",
              "      --hover-bg-color: #434B5C;\n",
              "      --hover-fill-color: #FFFFFF;\n",
              "      --disabled-bg-color: #3B4455;\n",
              "      --disabled-fill-color: #666;\n",
              "  }\n",
              "\n",
              "  .colab-df-quickchart {\n",
              "    background-color: var(--bg-color);\n",
              "    border: none;\n",
              "    border-radius: 50%;\n",
              "    cursor: pointer;\n",
              "    display: none;\n",
              "    fill: var(--fill-color);\n",
              "    height: 32px;\n",
              "    padding: 0;\n",
              "    width: 32px;\n",
              "  }\n",
              "\n",
              "  .colab-df-quickchart:hover {\n",
              "    background-color: var(--hover-bg-color);\n",
              "    box-shadow: 0 1px 2px rgba(60, 64, 67, 0.3), 0 1px 3px 1px rgba(60, 64, 67, 0.15);\n",
              "    fill: var(--button-hover-fill-color);\n",
              "  }\n",
              "\n",
              "  .colab-df-quickchart-complete:disabled,\n",
              "  .colab-df-quickchart-complete:disabled:hover {\n",
              "    background-color: var(--disabled-bg-color);\n",
              "    fill: var(--disabled-fill-color);\n",
              "    box-shadow: none;\n",
              "  }\n",
              "\n",
              "  .colab-df-spinner {\n",
              "    border: 2px solid var(--fill-color);\n",
              "    border-color: transparent;\n",
              "    border-bottom-color: var(--fill-color);\n",
              "    animation:\n",
              "      spin 1s steps(1) infinite;\n",
              "  }\n",
              "\n",
              "  @keyframes spin {\n",
              "    0% {\n",
              "      border-color: transparent;\n",
              "      border-bottom-color: var(--fill-color);\n",
              "      border-left-color: var(--fill-color);\n",
              "    }\n",
              "    20% {\n",
              "      border-color: transparent;\n",
              "      border-left-color: var(--fill-color);\n",
              "      border-top-color: var(--fill-color);\n",
              "    }\n",
              "    30% {\n",
              "      border-color: transparent;\n",
              "      border-left-color: var(--fill-color);\n",
              "      border-top-color: var(--fill-color);\n",
              "      border-right-color: var(--fill-color);\n",
              "    }\n",
              "    40% {\n",
              "      border-color: transparent;\n",
              "      border-right-color: var(--fill-color);\n",
              "      border-top-color: var(--fill-color);\n",
              "    }\n",
              "    60% {\n",
              "      border-color: transparent;\n",
              "      border-right-color: var(--fill-color);\n",
              "    }\n",
              "    80% {\n",
              "      border-color: transparent;\n",
              "      border-right-color: var(--fill-color);\n",
              "      border-bottom-color: var(--fill-color);\n",
              "    }\n",
              "    90% {\n",
              "      border-color: transparent;\n",
              "      border-bottom-color: var(--fill-color);\n",
              "    }\n",
              "  }\n",
              "</style>\n",
              "\n",
              "  <script>\n",
              "    async function quickchart(key) {\n",
              "      const quickchartButtonEl =\n",
              "        document.querySelector('#' + key + ' button');\n",
              "      quickchartButtonEl.disabled = true;  // To prevent multiple clicks.\n",
              "      quickchartButtonEl.classList.add('colab-df-spinner');\n",
              "      try {\n",
              "        const charts = await google.colab.kernel.invokeFunction(\n",
              "            'suggestCharts', [key], {});\n",
              "      } catch (error) {\n",
              "        console.error('Error during call to suggestCharts:', error);\n",
              "      }\n",
              "      quickchartButtonEl.classList.remove('colab-df-spinner');\n",
              "      quickchartButtonEl.classList.add('colab-df-quickchart-complete');\n",
              "    }\n",
              "    (() => {\n",
              "      let quickchartButtonEl =\n",
              "        document.querySelector('#df-0cb1452d-92c4-46a6-b777-7d66c95bb528 button');\n",
              "      quickchartButtonEl.style.display =\n",
              "        google.colab.kernel.accessAllowed ? 'block' : 'none';\n",
              "    })();\n",
              "  </script>\n",
              "</div>\n",
              "    </div>\n",
              "  </div>\n"
            ]
          },
          "metadata": {},
          "execution_count": 3
        }
      ]
    },
    {
      "cell_type": "markdown",
      "source": [
        "Portanto, precisaremos iterar dentro de um intervalo de tempo definido para extraí-lo."
      ],
      "metadata": {
        "id": "XoGYHPcoKXSV"
      }
    },
    {
      "cell_type": "code",
      "source": [
        "def date_range(start_date: datetime, end_date: datetime) -> Iterator[datetime]:\n",
        "  date_range_days: int = (end_date - start_date).days\n",
        "  for lag in range(date_range_days):\n",
        "    yield start_date + timedelta(lag)"
      ],
      "metadata": {
        "id": "yvNNHQWjF1LI"
      },
      "execution_count": null,
      "outputs": []
    },
    {
      "cell_type": "code",
      "source": [
        "start_date = datetime(2021,  1,  1)\n",
        "end_date   = datetime(2021, 12, 31)"
      ],
      "metadata": {
        "id": "pUnc9yv5ISm1"
      },
      "execution_count": null,
      "outputs": []
    },
    {
      "cell_type": "markdown",
      "source": [
        "De maneira iterativa, vamos selecionar as colunas de interesse e as linhas referentes ao Brasil."
      ],
      "metadata": {
        "id": "EqAuJfCkWKiz"
      }
    },
    {
      "cell_type": "code",
      "source": [
        "cases = None\n",
        "cases_is_empty = True\n",
        "\n",
        "for date in date_range(start_date=start_date, end_date=end_date):\n",
        "\n",
        "  date_str = date.strftime('%m-%d-%Y')\n",
        "  data_source_url = f'https://raw.githubusercontent.com/CSSEGISandData/COVID-19/master/csse_covid_19_data/csse_covid_19_daily_reports/{date_str}.csv'\n",
        "\n",
        "  case = pd.read_csv(data_source_url, sep=',')\n",
        "\n",
        "  case = case.drop(['FIPS', 'Admin2', 'Last_Update', 'Lat', 'Long_', 'Recovered', 'Active', 'Combined_Key', 'Case_Fatality_Ratio'], axis=1)\n",
        "  case = case.query('Country_Region == \"Brazil\"').reset_index(drop=True)\n",
        "  case['Date'] = pd.to_datetime(date.strftime('%Y-%m-%d'))\n",
        "\n",
        "  if cases_is_empty:\n",
        "    cases = case\n",
        "    cases_is_empty = False\n",
        "  else:\n",
        "    cases = cases.append(case, ignore_index=True)"
      ],
      "metadata": {
        "id": "-g3E-Ya4H4O1",
        "colab": {
          "base_uri": "https://localhost:8080/"
        },
        "outputId": "3f0ea56d-56db-4064-94ac-6be9fcfdefd4"
      },
      "execution_count": null,
      "outputs": [
        {
          "output_type": "stream",
          "name": "stderr",
          "text": [
            "<ipython-input-8-24f56788c23e>:19: FutureWarning: The frame.append method is deprecated and will be removed from pandas in a future version. Use pandas.concat instead.\n",
            "  cases = cases.append(case, ignore_index=True)\n",
            "<ipython-input-8-24f56788c23e>:19: FutureWarning: The frame.append method is deprecated and will be removed from pandas in a future version. Use pandas.concat instead.\n",
            "  cases = cases.append(case, ignore_index=True)\n",
            "<ipython-input-8-24f56788c23e>:19: FutureWarning: The frame.append method is deprecated and will be removed from pandas in a future version. Use pandas.concat instead.\n",
            "  cases = cases.append(case, ignore_index=True)\n",
            "<ipython-input-8-24f56788c23e>:19: FutureWarning: The frame.append method is deprecated and will be removed from pandas in a future version. Use pandas.concat instead.\n",
            "  cases = cases.append(case, ignore_index=True)\n",
            "<ipython-input-8-24f56788c23e>:19: FutureWarning: The frame.append method is deprecated and will be removed from pandas in a future version. Use pandas.concat instead.\n",
            "  cases = cases.append(case, ignore_index=True)\n",
            "<ipython-input-8-24f56788c23e>:19: FutureWarning: The frame.append method is deprecated and will be removed from pandas in a future version. Use pandas.concat instead.\n",
            "  cases = cases.append(case, ignore_index=True)\n",
            "<ipython-input-8-24f56788c23e>:19: FutureWarning: The frame.append method is deprecated and will be removed from pandas in a future version. Use pandas.concat instead.\n",
            "  cases = cases.append(case, ignore_index=True)\n",
            "<ipython-input-8-24f56788c23e>:19: FutureWarning: The frame.append method is deprecated and will be removed from pandas in a future version. Use pandas.concat instead.\n",
            "  cases = cases.append(case, ignore_index=True)\n",
            "<ipython-input-8-24f56788c23e>:19: FutureWarning: The frame.append method is deprecated and will be removed from pandas in a future version. Use pandas.concat instead.\n",
            "  cases = cases.append(case, ignore_index=True)\n",
            "<ipython-input-8-24f56788c23e>:19: FutureWarning: The frame.append method is deprecated and will be removed from pandas in a future version. Use pandas.concat instead.\n",
            "  cases = cases.append(case, ignore_index=True)\n",
            "<ipython-input-8-24f56788c23e>:19: FutureWarning: The frame.append method is deprecated and will be removed from pandas in a future version. Use pandas.concat instead.\n",
            "  cases = cases.append(case, ignore_index=True)\n",
            "<ipython-input-8-24f56788c23e>:19: FutureWarning: The frame.append method is deprecated and will be removed from pandas in a future version. Use pandas.concat instead.\n",
            "  cases = cases.append(case, ignore_index=True)\n",
            "<ipython-input-8-24f56788c23e>:19: FutureWarning: The frame.append method is deprecated and will be removed from pandas in a future version. Use pandas.concat instead.\n",
            "  cases = cases.append(case, ignore_index=True)\n",
            "<ipython-input-8-24f56788c23e>:19: FutureWarning: The frame.append method is deprecated and will be removed from pandas in a future version. Use pandas.concat instead.\n",
            "  cases = cases.append(case, ignore_index=True)\n",
            "<ipython-input-8-24f56788c23e>:19: FutureWarning: The frame.append method is deprecated and will be removed from pandas in a future version. Use pandas.concat instead.\n",
            "  cases = cases.append(case, ignore_index=True)\n",
            "<ipython-input-8-24f56788c23e>:19: FutureWarning: The frame.append method is deprecated and will be removed from pandas in a future version. Use pandas.concat instead.\n",
            "  cases = cases.append(case, ignore_index=True)\n",
            "<ipython-input-8-24f56788c23e>:19: FutureWarning: The frame.append method is deprecated and will be removed from pandas in a future version. Use pandas.concat instead.\n",
            "  cases = cases.append(case, ignore_index=True)\n",
            "<ipython-input-8-24f56788c23e>:19: FutureWarning: The frame.append method is deprecated and will be removed from pandas in a future version. Use pandas.concat instead.\n",
            "  cases = cases.append(case, ignore_index=True)\n",
            "<ipython-input-8-24f56788c23e>:19: FutureWarning: The frame.append method is deprecated and will be removed from pandas in a future version. Use pandas.concat instead.\n",
            "  cases = cases.append(case, ignore_index=True)\n",
            "<ipython-input-8-24f56788c23e>:19: FutureWarning: The frame.append method is deprecated and will be removed from pandas in a future version. Use pandas.concat instead.\n",
            "  cases = cases.append(case, ignore_index=True)\n",
            "<ipython-input-8-24f56788c23e>:19: FutureWarning: The frame.append method is deprecated and will be removed from pandas in a future version. Use pandas.concat instead.\n",
            "  cases = cases.append(case, ignore_index=True)\n",
            "<ipython-input-8-24f56788c23e>:19: FutureWarning: The frame.append method is deprecated and will be removed from pandas in a future version. Use pandas.concat instead.\n",
            "  cases = cases.append(case, ignore_index=True)\n",
            "<ipython-input-8-24f56788c23e>:19: FutureWarning: The frame.append method is deprecated and will be removed from pandas in a future version. Use pandas.concat instead.\n",
            "  cases = cases.append(case, ignore_index=True)\n",
            "<ipython-input-8-24f56788c23e>:19: FutureWarning: The frame.append method is deprecated and will be removed from pandas in a future version. Use pandas.concat instead.\n",
            "  cases = cases.append(case, ignore_index=True)\n",
            "<ipython-input-8-24f56788c23e>:19: FutureWarning: The frame.append method is deprecated and will be removed from pandas in a future version. Use pandas.concat instead.\n",
            "  cases = cases.append(case, ignore_index=True)\n",
            "<ipython-input-8-24f56788c23e>:19: FutureWarning: The frame.append method is deprecated and will be removed from pandas in a future version. Use pandas.concat instead.\n",
            "  cases = cases.append(case, ignore_index=True)\n",
            "<ipython-input-8-24f56788c23e>:19: FutureWarning: The frame.append method is deprecated and will be removed from pandas in a future version. Use pandas.concat instead.\n",
            "  cases = cases.append(case, ignore_index=True)\n",
            "<ipython-input-8-24f56788c23e>:19: FutureWarning: The frame.append method is deprecated and will be removed from pandas in a future version. Use pandas.concat instead.\n",
            "  cases = cases.append(case, ignore_index=True)\n",
            "<ipython-input-8-24f56788c23e>:19: FutureWarning: The frame.append method is deprecated and will be removed from pandas in a future version. Use pandas.concat instead.\n",
            "  cases = cases.append(case, ignore_index=True)\n",
            "<ipython-input-8-24f56788c23e>:19: FutureWarning: The frame.append method is deprecated and will be removed from pandas in a future version. Use pandas.concat instead.\n",
            "  cases = cases.append(case, ignore_index=True)\n",
            "<ipython-input-8-24f56788c23e>:19: FutureWarning: The frame.append method is deprecated and will be removed from pandas in a future version. Use pandas.concat instead.\n",
            "  cases = cases.append(case, ignore_index=True)\n",
            "<ipython-input-8-24f56788c23e>:19: FutureWarning: The frame.append method is deprecated and will be removed from pandas in a future version. Use pandas.concat instead.\n",
            "  cases = cases.append(case, ignore_index=True)\n",
            "<ipython-input-8-24f56788c23e>:19: FutureWarning: The frame.append method is deprecated and will be removed from pandas in a future version. Use pandas.concat instead.\n",
            "  cases = cases.append(case, ignore_index=True)\n",
            "<ipython-input-8-24f56788c23e>:19: FutureWarning: The frame.append method is deprecated and will be removed from pandas in a future version. Use pandas.concat instead.\n",
            "  cases = cases.append(case, ignore_index=True)\n",
            "<ipython-input-8-24f56788c23e>:19: FutureWarning: The frame.append method is deprecated and will be removed from pandas in a future version. Use pandas.concat instead.\n",
            "  cases = cases.append(case, ignore_index=True)\n",
            "<ipython-input-8-24f56788c23e>:19: FutureWarning: The frame.append method is deprecated and will be removed from pandas in a future version. Use pandas.concat instead.\n",
            "  cases = cases.append(case, ignore_index=True)\n",
            "<ipython-input-8-24f56788c23e>:19: FutureWarning: The frame.append method is deprecated and will be removed from pandas in a future version. Use pandas.concat instead.\n",
            "  cases = cases.append(case, ignore_index=True)\n",
            "<ipython-input-8-24f56788c23e>:19: FutureWarning: The frame.append method is deprecated and will be removed from pandas in a future version. Use pandas.concat instead.\n",
            "  cases = cases.append(case, ignore_index=True)\n",
            "<ipython-input-8-24f56788c23e>:19: FutureWarning: The frame.append method is deprecated and will be removed from pandas in a future version. Use pandas.concat instead.\n",
            "  cases = cases.append(case, ignore_index=True)\n",
            "<ipython-input-8-24f56788c23e>:19: FutureWarning: The frame.append method is deprecated and will be removed from pandas in a future version. Use pandas.concat instead.\n",
            "  cases = cases.append(case, ignore_index=True)\n",
            "<ipython-input-8-24f56788c23e>:19: FutureWarning: The frame.append method is deprecated and will be removed from pandas in a future version. Use pandas.concat instead.\n",
            "  cases = cases.append(case, ignore_index=True)\n",
            "<ipython-input-8-24f56788c23e>:19: FutureWarning: The frame.append method is deprecated and will be removed from pandas in a future version. Use pandas.concat instead.\n",
            "  cases = cases.append(case, ignore_index=True)\n",
            "<ipython-input-8-24f56788c23e>:19: FutureWarning: The frame.append method is deprecated and will be removed from pandas in a future version. Use pandas.concat instead.\n",
            "  cases = cases.append(case, ignore_index=True)\n",
            "<ipython-input-8-24f56788c23e>:19: FutureWarning: The frame.append method is deprecated and will be removed from pandas in a future version. Use pandas.concat instead.\n",
            "  cases = cases.append(case, ignore_index=True)\n",
            "<ipython-input-8-24f56788c23e>:19: FutureWarning: The frame.append method is deprecated and will be removed from pandas in a future version. Use pandas.concat instead.\n",
            "  cases = cases.append(case, ignore_index=True)\n",
            "<ipython-input-8-24f56788c23e>:19: FutureWarning: The frame.append method is deprecated and will be removed from pandas in a future version. Use pandas.concat instead.\n",
            "  cases = cases.append(case, ignore_index=True)\n",
            "<ipython-input-8-24f56788c23e>:19: FutureWarning: The frame.append method is deprecated and will be removed from pandas in a future version. Use pandas.concat instead.\n",
            "  cases = cases.append(case, ignore_index=True)\n",
            "<ipython-input-8-24f56788c23e>:19: FutureWarning: The frame.append method is deprecated and will be removed from pandas in a future version. Use pandas.concat instead.\n",
            "  cases = cases.append(case, ignore_index=True)\n",
            "<ipython-input-8-24f56788c23e>:19: FutureWarning: The frame.append method is deprecated and will be removed from pandas in a future version. Use pandas.concat instead.\n",
            "  cases = cases.append(case, ignore_index=True)\n",
            "<ipython-input-8-24f56788c23e>:19: FutureWarning: The frame.append method is deprecated and will be removed from pandas in a future version. Use pandas.concat instead.\n",
            "  cases = cases.append(case, ignore_index=True)\n",
            "<ipython-input-8-24f56788c23e>:19: FutureWarning: The frame.append method is deprecated and will be removed from pandas in a future version. Use pandas.concat instead.\n",
            "  cases = cases.append(case, ignore_index=True)\n",
            "<ipython-input-8-24f56788c23e>:19: FutureWarning: The frame.append method is deprecated and will be removed from pandas in a future version. Use pandas.concat instead.\n",
            "  cases = cases.append(case, ignore_index=True)\n",
            "<ipython-input-8-24f56788c23e>:19: FutureWarning: The frame.append method is deprecated and will be removed from pandas in a future version. Use pandas.concat instead.\n",
            "  cases = cases.append(case, ignore_index=True)\n",
            "<ipython-input-8-24f56788c23e>:19: FutureWarning: The frame.append method is deprecated and will be removed from pandas in a future version. Use pandas.concat instead.\n",
            "  cases = cases.append(case, ignore_index=True)\n",
            "<ipython-input-8-24f56788c23e>:19: FutureWarning: The frame.append method is deprecated and will be removed from pandas in a future version. Use pandas.concat instead.\n",
            "  cases = cases.append(case, ignore_index=True)\n",
            "<ipython-input-8-24f56788c23e>:19: FutureWarning: The frame.append method is deprecated and will be removed from pandas in a future version. Use pandas.concat instead.\n",
            "  cases = cases.append(case, ignore_index=True)\n",
            "<ipython-input-8-24f56788c23e>:19: FutureWarning: The frame.append method is deprecated and will be removed from pandas in a future version. Use pandas.concat instead.\n",
            "  cases = cases.append(case, ignore_index=True)\n",
            "<ipython-input-8-24f56788c23e>:19: FutureWarning: The frame.append method is deprecated and will be removed from pandas in a future version. Use pandas.concat instead.\n",
            "  cases = cases.append(case, ignore_index=True)\n",
            "<ipython-input-8-24f56788c23e>:19: FutureWarning: The frame.append method is deprecated and will be removed from pandas in a future version. Use pandas.concat instead.\n",
            "  cases = cases.append(case, ignore_index=True)\n",
            "<ipython-input-8-24f56788c23e>:19: FutureWarning: The frame.append method is deprecated and will be removed from pandas in a future version. Use pandas.concat instead.\n",
            "  cases = cases.append(case, ignore_index=True)\n",
            "<ipython-input-8-24f56788c23e>:19: FutureWarning: The frame.append method is deprecated and will be removed from pandas in a future version. Use pandas.concat instead.\n",
            "  cases = cases.append(case, ignore_index=True)\n",
            "<ipython-input-8-24f56788c23e>:19: FutureWarning: The frame.append method is deprecated and will be removed from pandas in a future version. Use pandas.concat instead.\n",
            "  cases = cases.append(case, ignore_index=True)\n",
            "<ipython-input-8-24f56788c23e>:19: FutureWarning: The frame.append method is deprecated and will be removed from pandas in a future version. Use pandas.concat instead.\n",
            "  cases = cases.append(case, ignore_index=True)\n",
            "<ipython-input-8-24f56788c23e>:19: FutureWarning: The frame.append method is deprecated and will be removed from pandas in a future version. Use pandas.concat instead.\n",
            "  cases = cases.append(case, ignore_index=True)\n",
            "<ipython-input-8-24f56788c23e>:19: FutureWarning: The frame.append method is deprecated and will be removed from pandas in a future version. Use pandas.concat instead.\n",
            "  cases = cases.append(case, ignore_index=True)\n",
            "<ipython-input-8-24f56788c23e>:19: FutureWarning: The frame.append method is deprecated and will be removed from pandas in a future version. Use pandas.concat instead.\n",
            "  cases = cases.append(case, ignore_index=True)\n",
            "<ipython-input-8-24f56788c23e>:19: FutureWarning: The frame.append method is deprecated and will be removed from pandas in a future version. Use pandas.concat instead.\n",
            "  cases = cases.append(case, ignore_index=True)\n",
            "<ipython-input-8-24f56788c23e>:19: FutureWarning: The frame.append method is deprecated and will be removed from pandas in a future version. Use pandas.concat instead.\n",
            "  cases = cases.append(case, ignore_index=True)\n",
            "<ipython-input-8-24f56788c23e>:19: FutureWarning: The frame.append method is deprecated and will be removed from pandas in a future version. Use pandas.concat instead.\n",
            "  cases = cases.append(case, ignore_index=True)\n",
            "<ipython-input-8-24f56788c23e>:19: FutureWarning: The frame.append method is deprecated and will be removed from pandas in a future version. Use pandas.concat instead.\n",
            "  cases = cases.append(case, ignore_index=True)\n",
            "<ipython-input-8-24f56788c23e>:19: FutureWarning: The frame.append method is deprecated and will be removed from pandas in a future version. Use pandas.concat instead.\n",
            "  cases = cases.append(case, ignore_index=True)\n",
            "<ipython-input-8-24f56788c23e>:19: FutureWarning: The frame.append method is deprecated and will be removed from pandas in a future version. Use pandas.concat instead.\n",
            "  cases = cases.append(case, ignore_index=True)\n",
            "<ipython-input-8-24f56788c23e>:19: FutureWarning: The frame.append method is deprecated and will be removed from pandas in a future version. Use pandas.concat instead.\n",
            "  cases = cases.append(case, ignore_index=True)\n",
            "<ipython-input-8-24f56788c23e>:19: FutureWarning: The frame.append method is deprecated and will be removed from pandas in a future version. Use pandas.concat instead.\n",
            "  cases = cases.append(case, ignore_index=True)\n",
            "<ipython-input-8-24f56788c23e>:19: FutureWarning: The frame.append method is deprecated and will be removed from pandas in a future version. Use pandas.concat instead.\n",
            "  cases = cases.append(case, ignore_index=True)\n",
            "<ipython-input-8-24f56788c23e>:19: FutureWarning: The frame.append method is deprecated and will be removed from pandas in a future version. Use pandas.concat instead.\n",
            "  cases = cases.append(case, ignore_index=True)\n",
            "<ipython-input-8-24f56788c23e>:19: FutureWarning: The frame.append method is deprecated and will be removed from pandas in a future version. Use pandas.concat instead.\n",
            "  cases = cases.append(case, ignore_index=True)\n",
            "<ipython-input-8-24f56788c23e>:19: FutureWarning: The frame.append method is deprecated and will be removed from pandas in a future version. Use pandas.concat instead.\n",
            "  cases = cases.append(case, ignore_index=True)\n",
            "<ipython-input-8-24f56788c23e>:19: FutureWarning: The frame.append method is deprecated and will be removed from pandas in a future version. Use pandas.concat instead.\n",
            "  cases = cases.append(case, ignore_index=True)\n",
            "<ipython-input-8-24f56788c23e>:19: FutureWarning: The frame.append method is deprecated and will be removed from pandas in a future version. Use pandas.concat instead.\n",
            "  cases = cases.append(case, ignore_index=True)\n",
            "<ipython-input-8-24f56788c23e>:19: FutureWarning: The frame.append method is deprecated and will be removed from pandas in a future version. Use pandas.concat instead.\n",
            "  cases = cases.append(case, ignore_index=True)\n",
            "<ipython-input-8-24f56788c23e>:19: FutureWarning: The frame.append method is deprecated and will be removed from pandas in a future version. Use pandas.concat instead.\n",
            "  cases = cases.append(case, ignore_index=True)\n",
            "<ipython-input-8-24f56788c23e>:19: FutureWarning: The frame.append method is deprecated and will be removed from pandas in a future version. Use pandas.concat instead.\n",
            "  cases = cases.append(case, ignore_index=True)\n",
            "<ipython-input-8-24f56788c23e>:19: FutureWarning: The frame.append method is deprecated and will be removed from pandas in a future version. Use pandas.concat instead.\n",
            "  cases = cases.append(case, ignore_index=True)\n",
            "<ipython-input-8-24f56788c23e>:19: FutureWarning: The frame.append method is deprecated and will be removed from pandas in a future version. Use pandas.concat instead.\n",
            "  cases = cases.append(case, ignore_index=True)\n",
            "<ipython-input-8-24f56788c23e>:19: FutureWarning: The frame.append method is deprecated and will be removed from pandas in a future version. Use pandas.concat instead.\n",
            "  cases = cases.append(case, ignore_index=True)\n",
            "<ipython-input-8-24f56788c23e>:19: FutureWarning: The frame.append method is deprecated and will be removed from pandas in a future version. Use pandas.concat instead.\n",
            "  cases = cases.append(case, ignore_index=True)\n",
            "<ipython-input-8-24f56788c23e>:19: FutureWarning: The frame.append method is deprecated and will be removed from pandas in a future version. Use pandas.concat instead.\n",
            "  cases = cases.append(case, ignore_index=True)\n",
            "<ipython-input-8-24f56788c23e>:19: FutureWarning: The frame.append method is deprecated and will be removed from pandas in a future version. Use pandas.concat instead.\n",
            "  cases = cases.append(case, ignore_index=True)\n",
            "<ipython-input-8-24f56788c23e>:19: FutureWarning: The frame.append method is deprecated and will be removed from pandas in a future version. Use pandas.concat instead.\n",
            "  cases = cases.append(case, ignore_index=True)\n",
            "<ipython-input-8-24f56788c23e>:19: FutureWarning: The frame.append method is deprecated and will be removed from pandas in a future version. Use pandas.concat instead.\n",
            "  cases = cases.append(case, ignore_index=True)\n",
            "<ipython-input-8-24f56788c23e>:19: FutureWarning: The frame.append method is deprecated and will be removed from pandas in a future version. Use pandas.concat instead.\n",
            "  cases = cases.append(case, ignore_index=True)\n",
            "<ipython-input-8-24f56788c23e>:19: FutureWarning: The frame.append method is deprecated and will be removed from pandas in a future version. Use pandas.concat instead.\n",
            "  cases = cases.append(case, ignore_index=True)\n",
            "<ipython-input-8-24f56788c23e>:19: FutureWarning: The frame.append method is deprecated and will be removed from pandas in a future version. Use pandas.concat instead.\n",
            "  cases = cases.append(case, ignore_index=True)\n",
            "<ipython-input-8-24f56788c23e>:19: FutureWarning: The frame.append method is deprecated and will be removed from pandas in a future version. Use pandas.concat instead.\n",
            "  cases = cases.append(case, ignore_index=True)\n",
            "<ipython-input-8-24f56788c23e>:19: FutureWarning: The frame.append method is deprecated and will be removed from pandas in a future version. Use pandas.concat instead.\n",
            "  cases = cases.append(case, ignore_index=True)\n",
            "<ipython-input-8-24f56788c23e>:19: FutureWarning: The frame.append method is deprecated and will be removed from pandas in a future version. Use pandas.concat instead.\n",
            "  cases = cases.append(case, ignore_index=True)\n",
            "<ipython-input-8-24f56788c23e>:19: FutureWarning: The frame.append method is deprecated and will be removed from pandas in a future version. Use pandas.concat instead.\n",
            "  cases = cases.append(case, ignore_index=True)\n",
            "<ipython-input-8-24f56788c23e>:19: FutureWarning: The frame.append method is deprecated and will be removed from pandas in a future version. Use pandas.concat instead.\n",
            "  cases = cases.append(case, ignore_index=True)\n",
            "<ipython-input-8-24f56788c23e>:19: FutureWarning: The frame.append method is deprecated and will be removed from pandas in a future version. Use pandas.concat instead.\n",
            "  cases = cases.append(case, ignore_index=True)\n",
            "<ipython-input-8-24f56788c23e>:19: FutureWarning: The frame.append method is deprecated and will be removed from pandas in a future version. Use pandas.concat instead.\n",
            "  cases = cases.append(case, ignore_index=True)\n",
            "<ipython-input-8-24f56788c23e>:19: FutureWarning: The frame.append method is deprecated and will be removed from pandas in a future version. Use pandas.concat instead.\n",
            "  cases = cases.append(case, ignore_index=True)\n",
            "<ipython-input-8-24f56788c23e>:19: FutureWarning: The frame.append method is deprecated and will be removed from pandas in a future version. Use pandas.concat instead.\n",
            "  cases = cases.append(case, ignore_index=True)\n",
            "<ipython-input-8-24f56788c23e>:19: FutureWarning: The frame.append method is deprecated and will be removed from pandas in a future version. Use pandas.concat instead.\n",
            "  cases = cases.append(case, ignore_index=True)\n",
            "<ipython-input-8-24f56788c23e>:19: FutureWarning: The frame.append method is deprecated and will be removed from pandas in a future version. Use pandas.concat instead.\n",
            "  cases = cases.append(case, ignore_index=True)\n",
            "<ipython-input-8-24f56788c23e>:19: FutureWarning: The frame.append method is deprecated and will be removed from pandas in a future version. Use pandas.concat instead.\n",
            "  cases = cases.append(case, ignore_index=True)\n",
            "<ipython-input-8-24f56788c23e>:19: FutureWarning: The frame.append method is deprecated and will be removed from pandas in a future version. Use pandas.concat instead.\n",
            "  cases = cases.append(case, ignore_index=True)\n",
            "<ipython-input-8-24f56788c23e>:19: FutureWarning: The frame.append method is deprecated and will be removed from pandas in a future version. Use pandas.concat instead.\n",
            "  cases = cases.append(case, ignore_index=True)\n",
            "<ipython-input-8-24f56788c23e>:19: FutureWarning: The frame.append method is deprecated and will be removed from pandas in a future version. Use pandas.concat instead.\n",
            "  cases = cases.append(case, ignore_index=True)\n",
            "<ipython-input-8-24f56788c23e>:19: FutureWarning: The frame.append method is deprecated and will be removed from pandas in a future version. Use pandas.concat instead.\n",
            "  cases = cases.append(case, ignore_index=True)\n",
            "<ipython-input-8-24f56788c23e>:19: FutureWarning: The frame.append method is deprecated and will be removed from pandas in a future version. Use pandas.concat instead.\n",
            "  cases = cases.append(case, ignore_index=True)\n",
            "<ipython-input-8-24f56788c23e>:19: FutureWarning: The frame.append method is deprecated and will be removed from pandas in a future version. Use pandas.concat instead.\n",
            "  cases = cases.append(case, ignore_index=True)\n",
            "<ipython-input-8-24f56788c23e>:19: FutureWarning: The frame.append method is deprecated and will be removed from pandas in a future version. Use pandas.concat instead.\n",
            "  cases = cases.append(case, ignore_index=True)\n",
            "<ipython-input-8-24f56788c23e>:19: FutureWarning: The frame.append method is deprecated and will be removed from pandas in a future version. Use pandas.concat instead.\n",
            "  cases = cases.append(case, ignore_index=True)\n",
            "<ipython-input-8-24f56788c23e>:19: FutureWarning: The frame.append method is deprecated and will be removed from pandas in a future version. Use pandas.concat instead.\n",
            "  cases = cases.append(case, ignore_index=True)\n",
            "<ipython-input-8-24f56788c23e>:19: FutureWarning: The frame.append method is deprecated and will be removed from pandas in a future version. Use pandas.concat instead.\n",
            "  cases = cases.append(case, ignore_index=True)\n",
            "<ipython-input-8-24f56788c23e>:19: FutureWarning: The frame.append method is deprecated and will be removed from pandas in a future version. Use pandas.concat instead.\n",
            "  cases = cases.append(case, ignore_index=True)\n",
            "<ipython-input-8-24f56788c23e>:19: FutureWarning: The frame.append method is deprecated and will be removed from pandas in a future version. Use pandas.concat instead.\n",
            "  cases = cases.append(case, ignore_index=True)\n",
            "<ipython-input-8-24f56788c23e>:19: FutureWarning: The frame.append method is deprecated and will be removed from pandas in a future version. Use pandas.concat instead.\n",
            "  cases = cases.append(case, ignore_index=True)\n",
            "<ipython-input-8-24f56788c23e>:19: FutureWarning: The frame.append method is deprecated and will be removed from pandas in a future version. Use pandas.concat instead.\n",
            "  cases = cases.append(case, ignore_index=True)\n",
            "<ipython-input-8-24f56788c23e>:19: FutureWarning: The frame.append method is deprecated and will be removed from pandas in a future version. Use pandas.concat instead.\n",
            "  cases = cases.append(case, ignore_index=True)\n",
            "<ipython-input-8-24f56788c23e>:19: FutureWarning: The frame.append method is deprecated and will be removed from pandas in a future version. Use pandas.concat instead.\n",
            "  cases = cases.append(case, ignore_index=True)\n",
            "<ipython-input-8-24f56788c23e>:19: FutureWarning: The frame.append method is deprecated and will be removed from pandas in a future version. Use pandas.concat instead.\n",
            "  cases = cases.append(case, ignore_index=True)\n",
            "<ipython-input-8-24f56788c23e>:19: FutureWarning: The frame.append method is deprecated and will be removed from pandas in a future version. Use pandas.concat instead.\n",
            "  cases = cases.append(case, ignore_index=True)\n",
            "<ipython-input-8-24f56788c23e>:19: FutureWarning: The frame.append method is deprecated and will be removed from pandas in a future version. Use pandas.concat instead.\n",
            "  cases = cases.append(case, ignore_index=True)\n",
            "<ipython-input-8-24f56788c23e>:19: FutureWarning: The frame.append method is deprecated and will be removed from pandas in a future version. Use pandas.concat instead.\n",
            "  cases = cases.append(case, ignore_index=True)\n",
            "<ipython-input-8-24f56788c23e>:19: FutureWarning: The frame.append method is deprecated and will be removed from pandas in a future version. Use pandas.concat instead.\n",
            "  cases = cases.append(case, ignore_index=True)\n",
            "<ipython-input-8-24f56788c23e>:19: FutureWarning: The frame.append method is deprecated and will be removed from pandas in a future version. Use pandas.concat instead.\n",
            "  cases = cases.append(case, ignore_index=True)\n",
            "<ipython-input-8-24f56788c23e>:19: FutureWarning: The frame.append method is deprecated and will be removed from pandas in a future version. Use pandas.concat instead.\n",
            "  cases = cases.append(case, ignore_index=True)\n",
            "<ipython-input-8-24f56788c23e>:19: FutureWarning: The frame.append method is deprecated and will be removed from pandas in a future version. Use pandas.concat instead.\n",
            "  cases = cases.append(case, ignore_index=True)\n",
            "<ipython-input-8-24f56788c23e>:19: FutureWarning: The frame.append method is deprecated and will be removed from pandas in a future version. Use pandas.concat instead.\n",
            "  cases = cases.append(case, ignore_index=True)\n",
            "<ipython-input-8-24f56788c23e>:19: FutureWarning: The frame.append method is deprecated and will be removed from pandas in a future version. Use pandas.concat instead.\n",
            "  cases = cases.append(case, ignore_index=True)\n",
            "<ipython-input-8-24f56788c23e>:19: FutureWarning: The frame.append method is deprecated and will be removed from pandas in a future version. Use pandas.concat instead.\n",
            "  cases = cases.append(case, ignore_index=True)\n",
            "<ipython-input-8-24f56788c23e>:19: FutureWarning: The frame.append method is deprecated and will be removed from pandas in a future version. Use pandas.concat instead.\n",
            "  cases = cases.append(case, ignore_index=True)\n",
            "<ipython-input-8-24f56788c23e>:19: FutureWarning: The frame.append method is deprecated and will be removed from pandas in a future version. Use pandas.concat instead.\n",
            "  cases = cases.append(case, ignore_index=True)\n",
            "<ipython-input-8-24f56788c23e>:19: FutureWarning: The frame.append method is deprecated and will be removed from pandas in a future version. Use pandas.concat instead.\n",
            "  cases = cases.append(case, ignore_index=True)\n",
            "<ipython-input-8-24f56788c23e>:19: FutureWarning: The frame.append method is deprecated and will be removed from pandas in a future version. Use pandas.concat instead.\n",
            "  cases = cases.append(case, ignore_index=True)\n",
            "<ipython-input-8-24f56788c23e>:19: FutureWarning: The frame.append method is deprecated and will be removed from pandas in a future version. Use pandas.concat instead.\n",
            "  cases = cases.append(case, ignore_index=True)\n",
            "<ipython-input-8-24f56788c23e>:19: FutureWarning: The frame.append method is deprecated and will be removed from pandas in a future version. Use pandas.concat instead.\n",
            "  cases = cases.append(case, ignore_index=True)\n",
            "<ipython-input-8-24f56788c23e>:19: FutureWarning: The frame.append method is deprecated and will be removed from pandas in a future version. Use pandas.concat instead.\n",
            "  cases = cases.append(case, ignore_index=True)\n",
            "<ipython-input-8-24f56788c23e>:19: FutureWarning: The frame.append method is deprecated and will be removed from pandas in a future version. Use pandas.concat instead.\n",
            "  cases = cases.append(case, ignore_index=True)\n",
            "<ipython-input-8-24f56788c23e>:19: FutureWarning: The frame.append method is deprecated and will be removed from pandas in a future version. Use pandas.concat instead.\n",
            "  cases = cases.append(case, ignore_index=True)\n",
            "<ipython-input-8-24f56788c23e>:19: FutureWarning: The frame.append method is deprecated and will be removed from pandas in a future version. Use pandas.concat instead.\n",
            "  cases = cases.append(case, ignore_index=True)\n",
            "<ipython-input-8-24f56788c23e>:19: FutureWarning: The frame.append method is deprecated and will be removed from pandas in a future version. Use pandas.concat instead.\n",
            "  cases = cases.append(case, ignore_index=True)\n",
            "<ipython-input-8-24f56788c23e>:19: FutureWarning: The frame.append method is deprecated and will be removed from pandas in a future version. Use pandas.concat instead.\n",
            "  cases = cases.append(case, ignore_index=True)\n",
            "<ipython-input-8-24f56788c23e>:19: FutureWarning: The frame.append method is deprecated and will be removed from pandas in a future version. Use pandas.concat instead.\n",
            "  cases = cases.append(case, ignore_index=True)\n",
            "<ipython-input-8-24f56788c23e>:19: FutureWarning: The frame.append method is deprecated and will be removed from pandas in a future version. Use pandas.concat instead.\n",
            "  cases = cases.append(case, ignore_index=True)\n",
            "<ipython-input-8-24f56788c23e>:19: FutureWarning: The frame.append method is deprecated and will be removed from pandas in a future version. Use pandas.concat instead.\n",
            "  cases = cases.append(case, ignore_index=True)\n",
            "<ipython-input-8-24f56788c23e>:19: FutureWarning: The frame.append method is deprecated and will be removed from pandas in a future version. Use pandas.concat instead.\n",
            "  cases = cases.append(case, ignore_index=True)\n",
            "<ipython-input-8-24f56788c23e>:19: FutureWarning: The frame.append method is deprecated and will be removed from pandas in a future version. Use pandas.concat instead.\n",
            "  cases = cases.append(case, ignore_index=True)\n",
            "<ipython-input-8-24f56788c23e>:19: FutureWarning: The frame.append method is deprecated and will be removed from pandas in a future version. Use pandas.concat instead.\n",
            "  cases = cases.append(case, ignore_index=True)\n",
            "<ipython-input-8-24f56788c23e>:19: FutureWarning: The frame.append method is deprecated and will be removed from pandas in a future version. Use pandas.concat instead.\n",
            "  cases = cases.append(case, ignore_index=True)\n",
            "<ipython-input-8-24f56788c23e>:19: FutureWarning: The frame.append method is deprecated and will be removed from pandas in a future version. Use pandas.concat instead.\n",
            "  cases = cases.append(case, ignore_index=True)\n",
            "<ipython-input-8-24f56788c23e>:19: FutureWarning: The frame.append method is deprecated and will be removed from pandas in a future version. Use pandas.concat instead.\n",
            "  cases = cases.append(case, ignore_index=True)\n",
            "<ipython-input-8-24f56788c23e>:19: FutureWarning: The frame.append method is deprecated and will be removed from pandas in a future version. Use pandas.concat instead.\n",
            "  cases = cases.append(case, ignore_index=True)\n",
            "<ipython-input-8-24f56788c23e>:19: FutureWarning: The frame.append method is deprecated and will be removed from pandas in a future version. Use pandas.concat instead.\n",
            "  cases = cases.append(case, ignore_index=True)\n",
            "<ipython-input-8-24f56788c23e>:19: FutureWarning: The frame.append method is deprecated and will be removed from pandas in a future version. Use pandas.concat instead.\n",
            "  cases = cases.append(case, ignore_index=True)\n",
            "<ipython-input-8-24f56788c23e>:19: FutureWarning: The frame.append method is deprecated and will be removed from pandas in a future version. Use pandas.concat instead.\n",
            "  cases = cases.append(case, ignore_index=True)\n",
            "<ipython-input-8-24f56788c23e>:19: FutureWarning: The frame.append method is deprecated and will be removed from pandas in a future version. Use pandas.concat instead.\n",
            "  cases = cases.append(case, ignore_index=True)\n",
            "<ipython-input-8-24f56788c23e>:19: FutureWarning: The frame.append method is deprecated and will be removed from pandas in a future version. Use pandas.concat instead.\n",
            "  cases = cases.append(case, ignore_index=True)\n",
            "<ipython-input-8-24f56788c23e>:19: FutureWarning: The frame.append method is deprecated and will be removed from pandas in a future version. Use pandas.concat instead.\n",
            "  cases = cases.append(case, ignore_index=True)\n",
            "<ipython-input-8-24f56788c23e>:19: FutureWarning: The frame.append method is deprecated and will be removed from pandas in a future version. Use pandas.concat instead.\n",
            "  cases = cases.append(case, ignore_index=True)\n",
            "<ipython-input-8-24f56788c23e>:19: FutureWarning: The frame.append method is deprecated and will be removed from pandas in a future version. Use pandas.concat instead.\n",
            "  cases = cases.append(case, ignore_index=True)\n",
            "<ipython-input-8-24f56788c23e>:19: FutureWarning: The frame.append method is deprecated and will be removed from pandas in a future version. Use pandas.concat instead.\n",
            "  cases = cases.append(case, ignore_index=True)\n",
            "<ipython-input-8-24f56788c23e>:19: FutureWarning: The frame.append method is deprecated and will be removed from pandas in a future version. Use pandas.concat instead.\n",
            "  cases = cases.append(case, ignore_index=True)\n",
            "<ipython-input-8-24f56788c23e>:19: FutureWarning: The frame.append method is deprecated and will be removed from pandas in a future version. Use pandas.concat instead.\n",
            "  cases = cases.append(case, ignore_index=True)\n",
            "<ipython-input-8-24f56788c23e>:19: FutureWarning: The frame.append method is deprecated and will be removed from pandas in a future version. Use pandas.concat instead.\n",
            "  cases = cases.append(case, ignore_index=True)\n",
            "<ipython-input-8-24f56788c23e>:19: FutureWarning: The frame.append method is deprecated and will be removed from pandas in a future version. Use pandas.concat instead.\n",
            "  cases = cases.append(case, ignore_index=True)\n",
            "<ipython-input-8-24f56788c23e>:19: FutureWarning: The frame.append method is deprecated and will be removed from pandas in a future version. Use pandas.concat instead.\n",
            "  cases = cases.append(case, ignore_index=True)\n",
            "<ipython-input-8-24f56788c23e>:19: FutureWarning: The frame.append method is deprecated and will be removed from pandas in a future version. Use pandas.concat instead.\n",
            "  cases = cases.append(case, ignore_index=True)\n",
            "<ipython-input-8-24f56788c23e>:19: FutureWarning: The frame.append method is deprecated and will be removed from pandas in a future version. Use pandas.concat instead.\n",
            "  cases = cases.append(case, ignore_index=True)\n",
            "<ipython-input-8-24f56788c23e>:19: FutureWarning: The frame.append method is deprecated and will be removed from pandas in a future version. Use pandas.concat instead.\n",
            "  cases = cases.append(case, ignore_index=True)\n",
            "<ipython-input-8-24f56788c23e>:19: FutureWarning: The frame.append method is deprecated and will be removed from pandas in a future version. Use pandas.concat instead.\n",
            "  cases = cases.append(case, ignore_index=True)\n",
            "<ipython-input-8-24f56788c23e>:19: FutureWarning: The frame.append method is deprecated and will be removed from pandas in a future version. Use pandas.concat instead.\n",
            "  cases = cases.append(case, ignore_index=True)\n",
            "<ipython-input-8-24f56788c23e>:19: FutureWarning: The frame.append method is deprecated and will be removed from pandas in a future version. Use pandas.concat instead.\n",
            "  cases = cases.append(case, ignore_index=True)\n",
            "<ipython-input-8-24f56788c23e>:19: FutureWarning: The frame.append method is deprecated and will be removed from pandas in a future version. Use pandas.concat instead.\n",
            "  cases = cases.append(case, ignore_index=True)\n",
            "<ipython-input-8-24f56788c23e>:19: FutureWarning: The frame.append method is deprecated and will be removed from pandas in a future version. Use pandas.concat instead.\n",
            "  cases = cases.append(case, ignore_index=True)\n",
            "<ipython-input-8-24f56788c23e>:19: FutureWarning: The frame.append method is deprecated and will be removed from pandas in a future version. Use pandas.concat instead.\n",
            "  cases = cases.append(case, ignore_index=True)\n",
            "<ipython-input-8-24f56788c23e>:19: FutureWarning: The frame.append method is deprecated and will be removed from pandas in a future version. Use pandas.concat instead.\n",
            "  cases = cases.append(case, ignore_index=True)\n",
            "<ipython-input-8-24f56788c23e>:19: FutureWarning: The frame.append method is deprecated and will be removed from pandas in a future version. Use pandas.concat instead.\n",
            "  cases = cases.append(case, ignore_index=True)\n",
            "<ipython-input-8-24f56788c23e>:19: FutureWarning: The frame.append method is deprecated and will be removed from pandas in a future version. Use pandas.concat instead.\n",
            "  cases = cases.append(case, ignore_index=True)\n",
            "<ipython-input-8-24f56788c23e>:19: FutureWarning: The frame.append method is deprecated and will be removed from pandas in a future version. Use pandas.concat instead.\n",
            "  cases = cases.append(case, ignore_index=True)\n",
            "<ipython-input-8-24f56788c23e>:19: FutureWarning: The frame.append method is deprecated and will be removed from pandas in a future version. Use pandas.concat instead.\n",
            "  cases = cases.append(case, ignore_index=True)\n",
            "<ipython-input-8-24f56788c23e>:19: FutureWarning: The frame.append method is deprecated and will be removed from pandas in a future version. Use pandas.concat instead.\n",
            "  cases = cases.append(case, ignore_index=True)\n",
            "<ipython-input-8-24f56788c23e>:19: FutureWarning: The frame.append method is deprecated and will be removed from pandas in a future version. Use pandas.concat instead.\n",
            "  cases = cases.append(case, ignore_index=True)\n",
            "<ipython-input-8-24f56788c23e>:19: FutureWarning: The frame.append method is deprecated and will be removed from pandas in a future version. Use pandas.concat instead.\n",
            "  cases = cases.append(case, ignore_index=True)\n",
            "<ipython-input-8-24f56788c23e>:19: FutureWarning: The frame.append method is deprecated and will be removed from pandas in a future version. Use pandas.concat instead.\n",
            "  cases = cases.append(case, ignore_index=True)\n",
            "<ipython-input-8-24f56788c23e>:19: FutureWarning: The frame.append method is deprecated and will be removed from pandas in a future version. Use pandas.concat instead.\n",
            "  cases = cases.append(case, ignore_index=True)\n",
            "<ipython-input-8-24f56788c23e>:19: FutureWarning: The frame.append method is deprecated and will be removed from pandas in a future version. Use pandas.concat instead.\n",
            "  cases = cases.append(case, ignore_index=True)\n",
            "<ipython-input-8-24f56788c23e>:19: FutureWarning: The frame.append method is deprecated and will be removed from pandas in a future version. Use pandas.concat instead.\n",
            "  cases = cases.append(case, ignore_index=True)\n",
            "<ipython-input-8-24f56788c23e>:19: FutureWarning: The frame.append method is deprecated and will be removed from pandas in a future version. Use pandas.concat instead.\n",
            "  cases = cases.append(case, ignore_index=True)\n",
            "<ipython-input-8-24f56788c23e>:19: FutureWarning: The frame.append method is deprecated and will be removed from pandas in a future version. Use pandas.concat instead.\n",
            "  cases = cases.append(case, ignore_index=True)\n",
            "<ipython-input-8-24f56788c23e>:19: FutureWarning: The frame.append method is deprecated and will be removed from pandas in a future version. Use pandas.concat instead.\n",
            "  cases = cases.append(case, ignore_index=True)\n",
            "<ipython-input-8-24f56788c23e>:19: FutureWarning: The frame.append method is deprecated and will be removed from pandas in a future version. Use pandas.concat instead.\n",
            "  cases = cases.append(case, ignore_index=True)\n",
            "<ipython-input-8-24f56788c23e>:19: FutureWarning: The frame.append method is deprecated and will be removed from pandas in a future version. Use pandas.concat instead.\n",
            "  cases = cases.append(case, ignore_index=True)\n",
            "<ipython-input-8-24f56788c23e>:19: FutureWarning: The frame.append method is deprecated and will be removed from pandas in a future version. Use pandas.concat instead.\n",
            "  cases = cases.append(case, ignore_index=True)\n",
            "<ipython-input-8-24f56788c23e>:19: FutureWarning: The frame.append method is deprecated and will be removed from pandas in a future version. Use pandas.concat instead.\n",
            "  cases = cases.append(case, ignore_index=True)\n",
            "<ipython-input-8-24f56788c23e>:19: FutureWarning: The frame.append method is deprecated and will be removed from pandas in a future version. Use pandas.concat instead.\n",
            "  cases = cases.append(case, ignore_index=True)\n",
            "<ipython-input-8-24f56788c23e>:19: FutureWarning: The frame.append method is deprecated and will be removed from pandas in a future version. Use pandas.concat instead.\n",
            "  cases = cases.append(case, ignore_index=True)\n",
            "<ipython-input-8-24f56788c23e>:19: FutureWarning: The frame.append method is deprecated and will be removed from pandas in a future version. Use pandas.concat instead.\n",
            "  cases = cases.append(case, ignore_index=True)\n",
            "<ipython-input-8-24f56788c23e>:19: FutureWarning: The frame.append method is deprecated and will be removed from pandas in a future version. Use pandas.concat instead.\n",
            "  cases = cases.append(case, ignore_index=True)\n",
            "<ipython-input-8-24f56788c23e>:19: FutureWarning: The frame.append method is deprecated and will be removed from pandas in a future version. Use pandas.concat instead.\n",
            "  cases = cases.append(case, ignore_index=True)\n",
            "<ipython-input-8-24f56788c23e>:19: FutureWarning: The frame.append method is deprecated and will be removed from pandas in a future version. Use pandas.concat instead.\n",
            "  cases = cases.append(case, ignore_index=True)\n",
            "<ipython-input-8-24f56788c23e>:19: FutureWarning: The frame.append method is deprecated and will be removed from pandas in a future version. Use pandas.concat instead.\n",
            "  cases = cases.append(case, ignore_index=True)\n",
            "<ipython-input-8-24f56788c23e>:19: FutureWarning: The frame.append method is deprecated and will be removed from pandas in a future version. Use pandas.concat instead.\n",
            "  cases = cases.append(case, ignore_index=True)\n",
            "<ipython-input-8-24f56788c23e>:19: FutureWarning: The frame.append method is deprecated and will be removed from pandas in a future version. Use pandas.concat instead.\n",
            "  cases = cases.append(case, ignore_index=True)\n",
            "<ipython-input-8-24f56788c23e>:19: FutureWarning: The frame.append method is deprecated and will be removed from pandas in a future version. Use pandas.concat instead.\n",
            "  cases = cases.append(case, ignore_index=True)\n",
            "<ipython-input-8-24f56788c23e>:19: FutureWarning: The frame.append method is deprecated and will be removed from pandas in a future version. Use pandas.concat instead.\n",
            "  cases = cases.append(case, ignore_index=True)\n",
            "<ipython-input-8-24f56788c23e>:19: FutureWarning: The frame.append method is deprecated and will be removed from pandas in a future version. Use pandas.concat instead.\n",
            "  cases = cases.append(case, ignore_index=True)\n",
            "<ipython-input-8-24f56788c23e>:19: FutureWarning: The frame.append method is deprecated and will be removed from pandas in a future version. Use pandas.concat instead.\n",
            "  cases = cases.append(case, ignore_index=True)\n",
            "<ipython-input-8-24f56788c23e>:19: FutureWarning: The frame.append method is deprecated and will be removed from pandas in a future version. Use pandas.concat instead.\n",
            "  cases = cases.append(case, ignore_index=True)\n",
            "<ipython-input-8-24f56788c23e>:19: FutureWarning: The frame.append method is deprecated and will be removed from pandas in a future version. Use pandas.concat instead.\n",
            "  cases = cases.append(case, ignore_index=True)\n",
            "<ipython-input-8-24f56788c23e>:19: FutureWarning: The frame.append method is deprecated and will be removed from pandas in a future version. Use pandas.concat instead.\n",
            "  cases = cases.append(case, ignore_index=True)\n",
            "<ipython-input-8-24f56788c23e>:19: FutureWarning: The frame.append method is deprecated and will be removed from pandas in a future version. Use pandas.concat instead.\n",
            "  cases = cases.append(case, ignore_index=True)\n",
            "<ipython-input-8-24f56788c23e>:19: FutureWarning: The frame.append method is deprecated and will be removed from pandas in a future version. Use pandas.concat instead.\n",
            "  cases = cases.append(case, ignore_index=True)\n",
            "<ipython-input-8-24f56788c23e>:19: FutureWarning: The frame.append method is deprecated and will be removed from pandas in a future version. Use pandas.concat instead.\n",
            "  cases = cases.append(case, ignore_index=True)\n",
            "<ipython-input-8-24f56788c23e>:19: FutureWarning: The frame.append method is deprecated and will be removed from pandas in a future version. Use pandas.concat instead.\n",
            "  cases = cases.append(case, ignore_index=True)\n",
            "<ipython-input-8-24f56788c23e>:19: FutureWarning: The frame.append method is deprecated and will be removed from pandas in a future version. Use pandas.concat instead.\n",
            "  cases = cases.append(case, ignore_index=True)\n",
            "<ipython-input-8-24f56788c23e>:19: FutureWarning: The frame.append method is deprecated and will be removed from pandas in a future version. Use pandas.concat instead.\n",
            "  cases = cases.append(case, ignore_index=True)\n",
            "<ipython-input-8-24f56788c23e>:19: FutureWarning: The frame.append method is deprecated and will be removed from pandas in a future version. Use pandas.concat instead.\n",
            "  cases = cases.append(case, ignore_index=True)\n",
            "<ipython-input-8-24f56788c23e>:19: FutureWarning: The frame.append method is deprecated and will be removed from pandas in a future version. Use pandas.concat instead.\n",
            "  cases = cases.append(case, ignore_index=True)\n",
            "<ipython-input-8-24f56788c23e>:19: FutureWarning: The frame.append method is deprecated and will be removed from pandas in a future version. Use pandas.concat instead.\n",
            "  cases = cases.append(case, ignore_index=True)\n",
            "<ipython-input-8-24f56788c23e>:19: FutureWarning: The frame.append method is deprecated and will be removed from pandas in a future version. Use pandas.concat instead.\n",
            "  cases = cases.append(case, ignore_index=True)\n",
            "<ipython-input-8-24f56788c23e>:19: FutureWarning: The frame.append method is deprecated and will be removed from pandas in a future version. Use pandas.concat instead.\n",
            "  cases = cases.append(case, ignore_index=True)\n",
            "<ipython-input-8-24f56788c23e>:19: FutureWarning: The frame.append method is deprecated and will be removed from pandas in a future version. Use pandas.concat instead.\n",
            "  cases = cases.append(case, ignore_index=True)\n",
            "<ipython-input-8-24f56788c23e>:19: FutureWarning: The frame.append method is deprecated and will be removed from pandas in a future version. Use pandas.concat instead.\n",
            "  cases = cases.append(case, ignore_index=True)\n",
            "<ipython-input-8-24f56788c23e>:19: FutureWarning: The frame.append method is deprecated and will be removed from pandas in a future version. Use pandas.concat instead.\n",
            "  cases = cases.append(case, ignore_index=True)\n",
            "<ipython-input-8-24f56788c23e>:19: FutureWarning: The frame.append method is deprecated and will be removed from pandas in a future version. Use pandas.concat instead.\n",
            "  cases = cases.append(case, ignore_index=True)\n",
            "<ipython-input-8-24f56788c23e>:19: FutureWarning: The frame.append method is deprecated and will be removed from pandas in a future version. Use pandas.concat instead.\n",
            "  cases = cases.append(case, ignore_index=True)\n",
            "<ipython-input-8-24f56788c23e>:19: FutureWarning: The frame.append method is deprecated and will be removed from pandas in a future version. Use pandas.concat instead.\n",
            "  cases = cases.append(case, ignore_index=True)\n",
            "<ipython-input-8-24f56788c23e>:19: FutureWarning: The frame.append method is deprecated and will be removed from pandas in a future version. Use pandas.concat instead.\n",
            "  cases = cases.append(case, ignore_index=True)\n",
            "<ipython-input-8-24f56788c23e>:19: FutureWarning: The frame.append method is deprecated and will be removed from pandas in a future version. Use pandas.concat instead.\n",
            "  cases = cases.append(case, ignore_index=True)\n",
            "<ipython-input-8-24f56788c23e>:19: FutureWarning: The frame.append method is deprecated and will be removed from pandas in a future version. Use pandas.concat instead.\n",
            "  cases = cases.append(case, ignore_index=True)\n",
            "<ipython-input-8-24f56788c23e>:19: FutureWarning: The frame.append method is deprecated and will be removed from pandas in a future version. Use pandas.concat instead.\n",
            "  cases = cases.append(case, ignore_index=True)\n",
            "<ipython-input-8-24f56788c23e>:19: FutureWarning: The frame.append method is deprecated and will be removed from pandas in a future version. Use pandas.concat instead.\n",
            "  cases = cases.append(case, ignore_index=True)\n",
            "<ipython-input-8-24f56788c23e>:19: FutureWarning: The frame.append method is deprecated and will be removed from pandas in a future version. Use pandas.concat instead.\n",
            "  cases = cases.append(case, ignore_index=True)\n",
            "<ipython-input-8-24f56788c23e>:19: FutureWarning: The frame.append method is deprecated and will be removed from pandas in a future version. Use pandas.concat instead.\n",
            "  cases = cases.append(case, ignore_index=True)\n",
            "<ipython-input-8-24f56788c23e>:19: FutureWarning: The frame.append method is deprecated and will be removed from pandas in a future version. Use pandas.concat instead.\n",
            "  cases = cases.append(case, ignore_index=True)\n",
            "<ipython-input-8-24f56788c23e>:19: FutureWarning: The frame.append method is deprecated and will be removed from pandas in a future version. Use pandas.concat instead.\n",
            "  cases = cases.append(case, ignore_index=True)\n",
            "<ipython-input-8-24f56788c23e>:19: FutureWarning: The frame.append method is deprecated and will be removed from pandas in a future version. Use pandas.concat instead.\n",
            "  cases = cases.append(case, ignore_index=True)\n",
            "<ipython-input-8-24f56788c23e>:19: FutureWarning: The frame.append method is deprecated and will be removed from pandas in a future version. Use pandas.concat instead.\n",
            "  cases = cases.append(case, ignore_index=True)\n",
            "<ipython-input-8-24f56788c23e>:19: FutureWarning: The frame.append method is deprecated and will be removed from pandas in a future version. Use pandas.concat instead.\n",
            "  cases = cases.append(case, ignore_index=True)\n",
            "<ipython-input-8-24f56788c23e>:19: FutureWarning: The frame.append method is deprecated and will be removed from pandas in a future version. Use pandas.concat instead.\n",
            "  cases = cases.append(case, ignore_index=True)\n",
            "<ipython-input-8-24f56788c23e>:19: FutureWarning: The frame.append method is deprecated and will be removed from pandas in a future version. Use pandas.concat instead.\n",
            "  cases = cases.append(case, ignore_index=True)\n",
            "<ipython-input-8-24f56788c23e>:19: FutureWarning: The frame.append method is deprecated and will be removed from pandas in a future version. Use pandas.concat instead.\n",
            "  cases = cases.append(case, ignore_index=True)\n",
            "<ipython-input-8-24f56788c23e>:19: FutureWarning: The frame.append method is deprecated and will be removed from pandas in a future version. Use pandas.concat instead.\n",
            "  cases = cases.append(case, ignore_index=True)\n",
            "<ipython-input-8-24f56788c23e>:19: FutureWarning: The frame.append method is deprecated and will be removed from pandas in a future version. Use pandas.concat instead.\n",
            "  cases = cases.append(case, ignore_index=True)\n",
            "<ipython-input-8-24f56788c23e>:19: FutureWarning: The frame.append method is deprecated and will be removed from pandas in a future version. Use pandas.concat instead.\n",
            "  cases = cases.append(case, ignore_index=True)\n",
            "<ipython-input-8-24f56788c23e>:19: FutureWarning: The frame.append method is deprecated and will be removed from pandas in a future version. Use pandas.concat instead.\n",
            "  cases = cases.append(case, ignore_index=True)\n",
            "<ipython-input-8-24f56788c23e>:19: FutureWarning: The frame.append method is deprecated and will be removed from pandas in a future version. Use pandas.concat instead.\n",
            "  cases = cases.append(case, ignore_index=True)\n",
            "<ipython-input-8-24f56788c23e>:19: FutureWarning: The frame.append method is deprecated and will be removed from pandas in a future version. Use pandas.concat instead.\n",
            "  cases = cases.append(case, ignore_index=True)\n",
            "<ipython-input-8-24f56788c23e>:19: FutureWarning: The frame.append method is deprecated and will be removed from pandas in a future version. Use pandas.concat instead.\n",
            "  cases = cases.append(case, ignore_index=True)\n",
            "<ipython-input-8-24f56788c23e>:19: FutureWarning: The frame.append method is deprecated and will be removed from pandas in a future version. Use pandas.concat instead.\n",
            "  cases = cases.append(case, ignore_index=True)\n",
            "<ipython-input-8-24f56788c23e>:19: FutureWarning: The frame.append method is deprecated and will be removed from pandas in a future version. Use pandas.concat instead.\n",
            "  cases = cases.append(case, ignore_index=True)\n",
            "<ipython-input-8-24f56788c23e>:19: FutureWarning: The frame.append method is deprecated and will be removed from pandas in a future version. Use pandas.concat instead.\n",
            "  cases = cases.append(case, ignore_index=True)\n",
            "<ipython-input-8-24f56788c23e>:19: FutureWarning: The frame.append method is deprecated and will be removed from pandas in a future version. Use pandas.concat instead.\n",
            "  cases = cases.append(case, ignore_index=True)\n",
            "<ipython-input-8-24f56788c23e>:19: FutureWarning: The frame.append method is deprecated and will be removed from pandas in a future version. Use pandas.concat instead.\n",
            "  cases = cases.append(case, ignore_index=True)\n",
            "<ipython-input-8-24f56788c23e>:19: FutureWarning: The frame.append method is deprecated and will be removed from pandas in a future version. Use pandas.concat instead.\n",
            "  cases = cases.append(case, ignore_index=True)\n",
            "<ipython-input-8-24f56788c23e>:19: FutureWarning: The frame.append method is deprecated and will be removed from pandas in a future version. Use pandas.concat instead.\n",
            "  cases = cases.append(case, ignore_index=True)\n",
            "<ipython-input-8-24f56788c23e>:19: FutureWarning: The frame.append method is deprecated and will be removed from pandas in a future version. Use pandas.concat instead.\n",
            "  cases = cases.append(case, ignore_index=True)\n",
            "<ipython-input-8-24f56788c23e>:19: FutureWarning: The frame.append method is deprecated and will be removed from pandas in a future version. Use pandas.concat instead.\n",
            "  cases = cases.append(case, ignore_index=True)\n",
            "<ipython-input-8-24f56788c23e>:19: FutureWarning: The frame.append method is deprecated and will be removed from pandas in a future version. Use pandas.concat instead.\n",
            "  cases = cases.append(case, ignore_index=True)\n",
            "<ipython-input-8-24f56788c23e>:19: FutureWarning: The frame.append method is deprecated and will be removed from pandas in a future version. Use pandas.concat instead.\n",
            "  cases = cases.append(case, ignore_index=True)\n",
            "<ipython-input-8-24f56788c23e>:19: FutureWarning: The frame.append method is deprecated and will be removed from pandas in a future version. Use pandas.concat instead.\n",
            "  cases = cases.append(case, ignore_index=True)\n",
            "<ipython-input-8-24f56788c23e>:19: FutureWarning: The frame.append method is deprecated and will be removed from pandas in a future version. Use pandas.concat instead.\n",
            "  cases = cases.append(case, ignore_index=True)\n",
            "<ipython-input-8-24f56788c23e>:19: FutureWarning: The frame.append method is deprecated and will be removed from pandas in a future version. Use pandas.concat instead.\n",
            "  cases = cases.append(case, ignore_index=True)\n",
            "<ipython-input-8-24f56788c23e>:19: FutureWarning: The frame.append method is deprecated and will be removed from pandas in a future version. Use pandas.concat instead.\n",
            "  cases = cases.append(case, ignore_index=True)\n",
            "<ipython-input-8-24f56788c23e>:19: FutureWarning: The frame.append method is deprecated and will be removed from pandas in a future version. Use pandas.concat instead.\n",
            "  cases = cases.append(case, ignore_index=True)\n",
            "<ipython-input-8-24f56788c23e>:19: FutureWarning: The frame.append method is deprecated and will be removed from pandas in a future version. Use pandas.concat instead.\n",
            "  cases = cases.append(case, ignore_index=True)\n",
            "<ipython-input-8-24f56788c23e>:19: FutureWarning: The frame.append method is deprecated and will be removed from pandas in a future version. Use pandas.concat instead.\n",
            "  cases = cases.append(case, ignore_index=True)\n",
            "<ipython-input-8-24f56788c23e>:19: FutureWarning: The frame.append method is deprecated and will be removed from pandas in a future version. Use pandas.concat instead.\n",
            "  cases = cases.append(case, ignore_index=True)\n",
            "<ipython-input-8-24f56788c23e>:19: FutureWarning: The frame.append method is deprecated and will be removed from pandas in a future version. Use pandas.concat instead.\n",
            "  cases = cases.append(case, ignore_index=True)\n",
            "<ipython-input-8-24f56788c23e>:19: FutureWarning: The frame.append method is deprecated and will be removed from pandas in a future version. Use pandas.concat instead.\n",
            "  cases = cases.append(case, ignore_index=True)\n",
            "<ipython-input-8-24f56788c23e>:19: FutureWarning: The frame.append method is deprecated and will be removed from pandas in a future version. Use pandas.concat instead.\n",
            "  cases = cases.append(case, ignore_index=True)\n",
            "<ipython-input-8-24f56788c23e>:19: FutureWarning: The frame.append method is deprecated and will be removed from pandas in a future version. Use pandas.concat instead.\n",
            "  cases = cases.append(case, ignore_index=True)\n",
            "<ipython-input-8-24f56788c23e>:19: FutureWarning: The frame.append method is deprecated and will be removed from pandas in a future version. Use pandas.concat instead.\n",
            "  cases = cases.append(case, ignore_index=True)\n",
            "<ipython-input-8-24f56788c23e>:19: FutureWarning: The frame.append method is deprecated and will be removed from pandas in a future version. Use pandas.concat instead.\n",
            "  cases = cases.append(case, ignore_index=True)\n",
            "<ipython-input-8-24f56788c23e>:19: FutureWarning: The frame.append method is deprecated and will be removed from pandas in a future version. Use pandas.concat instead.\n",
            "  cases = cases.append(case, ignore_index=True)\n",
            "<ipython-input-8-24f56788c23e>:19: FutureWarning: The frame.append method is deprecated and will be removed from pandas in a future version. Use pandas.concat instead.\n",
            "  cases = cases.append(case, ignore_index=True)\n",
            "<ipython-input-8-24f56788c23e>:19: FutureWarning: The frame.append method is deprecated and will be removed from pandas in a future version. Use pandas.concat instead.\n",
            "  cases = cases.append(case, ignore_index=True)\n",
            "<ipython-input-8-24f56788c23e>:19: FutureWarning: The frame.append method is deprecated and will be removed from pandas in a future version. Use pandas.concat instead.\n",
            "  cases = cases.append(case, ignore_index=True)\n",
            "<ipython-input-8-24f56788c23e>:19: FutureWarning: The frame.append method is deprecated and will be removed from pandas in a future version. Use pandas.concat instead.\n",
            "  cases = cases.append(case, ignore_index=True)\n",
            "<ipython-input-8-24f56788c23e>:19: FutureWarning: The frame.append method is deprecated and will be removed from pandas in a future version. Use pandas.concat instead.\n",
            "  cases = cases.append(case, ignore_index=True)\n",
            "<ipython-input-8-24f56788c23e>:19: FutureWarning: The frame.append method is deprecated and will be removed from pandas in a future version. Use pandas.concat instead.\n",
            "  cases = cases.append(case, ignore_index=True)\n",
            "<ipython-input-8-24f56788c23e>:19: FutureWarning: The frame.append method is deprecated and will be removed from pandas in a future version. Use pandas.concat instead.\n",
            "  cases = cases.append(case, ignore_index=True)\n",
            "<ipython-input-8-24f56788c23e>:19: FutureWarning: The frame.append method is deprecated and will be removed from pandas in a future version. Use pandas.concat instead.\n",
            "  cases = cases.append(case, ignore_index=True)\n",
            "<ipython-input-8-24f56788c23e>:19: FutureWarning: The frame.append method is deprecated and will be removed from pandas in a future version. Use pandas.concat instead.\n",
            "  cases = cases.append(case, ignore_index=True)\n",
            "<ipython-input-8-24f56788c23e>:19: FutureWarning: The frame.append method is deprecated and will be removed from pandas in a future version. Use pandas.concat instead.\n",
            "  cases = cases.append(case, ignore_index=True)\n",
            "<ipython-input-8-24f56788c23e>:19: FutureWarning: The frame.append method is deprecated and will be removed from pandas in a future version. Use pandas.concat instead.\n",
            "  cases = cases.append(case, ignore_index=True)\n",
            "<ipython-input-8-24f56788c23e>:19: FutureWarning: The frame.append method is deprecated and will be removed from pandas in a future version. Use pandas.concat instead.\n",
            "  cases = cases.append(case, ignore_index=True)\n",
            "<ipython-input-8-24f56788c23e>:19: FutureWarning: The frame.append method is deprecated and will be removed from pandas in a future version. Use pandas.concat instead.\n",
            "  cases = cases.append(case, ignore_index=True)\n",
            "<ipython-input-8-24f56788c23e>:19: FutureWarning: The frame.append method is deprecated and will be removed from pandas in a future version. Use pandas.concat instead.\n",
            "  cases = cases.append(case, ignore_index=True)\n",
            "<ipython-input-8-24f56788c23e>:19: FutureWarning: The frame.append method is deprecated and will be removed from pandas in a future version. Use pandas.concat instead.\n",
            "  cases = cases.append(case, ignore_index=True)\n",
            "<ipython-input-8-24f56788c23e>:19: FutureWarning: The frame.append method is deprecated and will be removed from pandas in a future version. Use pandas.concat instead.\n",
            "  cases = cases.append(case, ignore_index=True)\n",
            "<ipython-input-8-24f56788c23e>:19: FutureWarning: The frame.append method is deprecated and will be removed from pandas in a future version. Use pandas.concat instead.\n",
            "  cases = cases.append(case, ignore_index=True)\n",
            "<ipython-input-8-24f56788c23e>:19: FutureWarning: The frame.append method is deprecated and will be removed from pandas in a future version. Use pandas.concat instead.\n",
            "  cases = cases.append(case, ignore_index=True)\n",
            "<ipython-input-8-24f56788c23e>:19: FutureWarning: The frame.append method is deprecated and will be removed from pandas in a future version. Use pandas.concat instead.\n",
            "  cases = cases.append(case, ignore_index=True)\n",
            "<ipython-input-8-24f56788c23e>:19: FutureWarning: The frame.append method is deprecated and will be removed from pandas in a future version. Use pandas.concat instead.\n",
            "  cases = cases.append(case, ignore_index=True)\n",
            "<ipython-input-8-24f56788c23e>:19: FutureWarning: The frame.append method is deprecated and will be removed from pandas in a future version. Use pandas.concat instead.\n",
            "  cases = cases.append(case, ignore_index=True)\n",
            "<ipython-input-8-24f56788c23e>:19: FutureWarning: The frame.append method is deprecated and will be removed from pandas in a future version. Use pandas.concat instead.\n",
            "  cases = cases.append(case, ignore_index=True)\n",
            "<ipython-input-8-24f56788c23e>:19: FutureWarning: The frame.append method is deprecated and will be removed from pandas in a future version. Use pandas.concat instead.\n",
            "  cases = cases.append(case, ignore_index=True)\n",
            "<ipython-input-8-24f56788c23e>:19: FutureWarning: The frame.append method is deprecated and will be removed from pandas in a future version. Use pandas.concat instead.\n",
            "  cases = cases.append(case, ignore_index=True)\n",
            "<ipython-input-8-24f56788c23e>:19: FutureWarning: The frame.append method is deprecated and will be removed from pandas in a future version. Use pandas.concat instead.\n",
            "  cases = cases.append(case, ignore_index=True)\n",
            "<ipython-input-8-24f56788c23e>:19: FutureWarning: The frame.append method is deprecated and will be removed from pandas in a future version. Use pandas.concat instead.\n",
            "  cases = cases.append(case, ignore_index=True)\n",
            "<ipython-input-8-24f56788c23e>:19: FutureWarning: The frame.append method is deprecated and will be removed from pandas in a future version. Use pandas.concat instead.\n",
            "  cases = cases.append(case, ignore_index=True)\n",
            "<ipython-input-8-24f56788c23e>:19: FutureWarning: The frame.append method is deprecated and will be removed from pandas in a future version. Use pandas.concat instead.\n",
            "  cases = cases.append(case, ignore_index=True)\n",
            "<ipython-input-8-24f56788c23e>:19: FutureWarning: The frame.append method is deprecated and will be removed from pandas in a future version. Use pandas.concat instead.\n",
            "  cases = cases.append(case, ignore_index=True)\n",
            "<ipython-input-8-24f56788c23e>:19: FutureWarning: The frame.append method is deprecated and will be removed from pandas in a future version. Use pandas.concat instead.\n",
            "  cases = cases.append(case, ignore_index=True)\n",
            "<ipython-input-8-24f56788c23e>:19: FutureWarning: The frame.append method is deprecated and will be removed from pandas in a future version. Use pandas.concat instead.\n",
            "  cases = cases.append(case, ignore_index=True)\n",
            "<ipython-input-8-24f56788c23e>:19: FutureWarning: The frame.append method is deprecated and will be removed from pandas in a future version. Use pandas.concat instead.\n",
            "  cases = cases.append(case, ignore_index=True)\n",
            "<ipython-input-8-24f56788c23e>:19: FutureWarning: The frame.append method is deprecated and will be removed from pandas in a future version. Use pandas.concat instead.\n",
            "  cases = cases.append(case, ignore_index=True)\n",
            "<ipython-input-8-24f56788c23e>:19: FutureWarning: The frame.append method is deprecated and will be removed from pandas in a future version. Use pandas.concat instead.\n",
            "  cases = cases.append(case, ignore_index=True)\n",
            "<ipython-input-8-24f56788c23e>:19: FutureWarning: The frame.append method is deprecated and will be removed from pandas in a future version. Use pandas.concat instead.\n",
            "  cases = cases.append(case, ignore_index=True)\n",
            "<ipython-input-8-24f56788c23e>:19: FutureWarning: The frame.append method is deprecated and will be removed from pandas in a future version. Use pandas.concat instead.\n",
            "  cases = cases.append(case, ignore_index=True)\n",
            "<ipython-input-8-24f56788c23e>:19: FutureWarning: The frame.append method is deprecated and will be removed from pandas in a future version. Use pandas.concat instead.\n",
            "  cases = cases.append(case, ignore_index=True)\n",
            "<ipython-input-8-24f56788c23e>:19: FutureWarning: The frame.append method is deprecated and will be removed from pandas in a future version. Use pandas.concat instead.\n",
            "  cases = cases.append(case, ignore_index=True)\n",
            "<ipython-input-8-24f56788c23e>:19: FutureWarning: The frame.append method is deprecated and will be removed from pandas in a future version. Use pandas.concat instead.\n",
            "  cases = cases.append(case, ignore_index=True)\n",
            "<ipython-input-8-24f56788c23e>:19: FutureWarning: The frame.append method is deprecated and will be removed from pandas in a future version. Use pandas.concat instead.\n",
            "  cases = cases.append(case, ignore_index=True)\n",
            "<ipython-input-8-24f56788c23e>:19: FutureWarning: The frame.append method is deprecated and will be removed from pandas in a future version. Use pandas.concat instead.\n",
            "  cases = cases.append(case, ignore_index=True)\n",
            "<ipython-input-8-24f56788c23e>:19: FutureWarning: The frame.append method is deprecated and will be removed from pandas in a future version. Use pandas.concat instead.\n",
            "  cases = cases.append(case, ignore_index=True)\n",
            "<ipython-input-8-24f56788c23e>:19: FutureWarning: The frame.append method is deprecated and will be removed from pandas in a future version. Use pandas.concat instead.\n",
            "  cases = cases.append(case, ignore_index=True)\n",
            "<ipython-input-8-24f56788c23e>:19: FutureWarning: The frame.append method is deprecated and will be removed from pandas in a future version. Use pandas.concat instead.\n",
            "  cases = cases.append(case, ignore_index=True)\n",
            "<ipython-input-8-24f56788c23e>:19: FutureWarning: The frame.append method is deprecated and will be removed from pandas in a future version. Use pandas.concat instead.\n",
            "  cases = cases.append(case, ignore_index=True)\n",
            "<ipython-input-8-24f56788c23e>:19: FutureWarning: The frame.append method is deprecated and will be removed from pandas in a future version. Use pandas.concat instead.\n",
            "  cases = cases.append(case, ignore_index=True)\n",
            "<ipython-input-8-24f56788c23e>:19: FutureWarning: The frame.append method is deprecated and will be removed from pandas in a future version. Use pandas.concat instead.\n",
            "  cases = cases.append(case, ignore_index=True)\n",
            "<ipython-input-8-24f56788c23e>:19: FutureWarning: The frame.append method is deprecated and will be removed from pandas in a future version. Use pandas.concat instead.\n",
            "  cases = cases.append(case, ignore_index=True)\n",
            "<ipython-input-8-24f56788c23e>:19: FutureWarning: The frame.append method is deprecated and will be removed from pandas in a future version. Use pandas.concat instead.\n",
            "  cases = cases.append(case, ignore_index=True)\n",
            "<ipython-input-8-24f56788c23e>:19: FutureWarning: The frame.append method is deprecated and will be removed from pandas in a future version. Use pandas.concat instead.\n",
            "  cases = cases.append(case, ignore_index=True)\n",
            "<ipython-input-8-24f56788c23e>:19: FutureWarning: The frame.append method is deprecated and will be removed from pandas in a future version. Use pandas.concat instead.\n",
            "  cases = cases.append(case, ignore_index=True)\n",
            "<ipython-input-8-24f56788c23e>:19: FutureWarning: The frame.append method is deprecated and will be removed from pandas in a future version. Use pandas.concat instead.\n",
            "  cases = cases.append(case, ignore_index=True)\n",
            "<ipython-input-8-24f56788c23e>:19: FutureWarning: The frame.append method is deprecated and will be removed from pandas in a future version. Use pandas.concat instead.\n",
            "  cases = cases.append(case, ignore_index=True)\n",
            "<ipython-input-8-24f56788c23e>:19: FutureWarning: The frame.append method is deprecated and will be removed from pandas in a future version. Use pandas.concat instead.\n",
            "  cases = cases.append(case, ignore_index=True)\n",
            "<ipython-input-8-24f56788c23e>:19: FutureWarning: The frame.append method is deprecated and will be removed from pandas in a future version. Use pandas.concat instead.\n",
            "  cases = cases.append(case, ignore_index=True)\n",
            "<ipython-input-8-24f56788c23e>:19: FutureWarning: The frame.append method is deprecated and will be removed from pandas in a future version. Use pandas.concat instead.\n",
            "  cases = cases.append(case, ignore_index=True)\n",
            "<ipython-input-8-24f56788c23e>:19: FutureWarning: The frame.append method is deprecated and will be removed from pandas in a future version. Use pandas.concat instead.\n",
            "  cases = cases.append(case, ignore_index=True)\n",
            "<ipython-input-8-24f56788c23e>:19: FutureWarning: The frame.append method is deprecated and will be removed from pandas in a future version. Use pandas.concat instead.\n",
            "  cases = cases.append(case, ignore_index=True)\n",
            "<ipython-input-8-24f56788c23e>:19: FutureWarning: The frame.append method is deprecated and will be removed from pandas in a future version. Use pandas.concat instead.\n",
            "  cases = cases.append(case, ignore_index=True)\n",
            "<ipython-input-8-24f56788c23e>:19: FutureWarning: The frame.append method is deprecated and will be removed from pandas in a future version. Use pandas.concat instead.\n",
            "  cases = cases.append(case, ignore_index=True)\n",
            "<ipython-input-8-24f56788c23e>:19: FutureWarning: The frame.append method is deprecated and will be removed from pandas in a future version. Use pandas.concat instead.\n",
            "  cases = cases.append(case, ignore_index=True)\n",
            "<ipython-input-8-24f56788c23e>:19: FutureWarning: The frame.append method is deprecated and will be removed from pandas in a future version. Use pandas.concat instead.\n",
            "  cases = cases.append(case, ignore_index=True)\n",
            "<ipython-input-8-24f56788c23e>:19: FutureWarning: The frame.append method is deprecated and will be removed from pandas in a future version. Use pandas.concat instead.\n",
            "  cases = cases.append(case, ignore_index=True)\n",
            "<ipython-input-8-24f56788c23e>:19: FutureWarning: The frame.append method is deprecated and will be removed from pandas in a future version. Use pandas.concat instead.\n",
            "  cases = cases.append(case, ignore_index=True)\n",
            "<ipython-input-8-24f56788c23e>:19: FutureWarning: The frame.append method is deprecated and will be removed from pandas in a future version. Use pandas.concat instead.\n",
            "  cases = cases.append(case, ignore_index=True)\n",
            "<ipython-input-8-24f56788c23e>:19: FutureWarning: The frame.append method is deprecated and will be removed from pandas in a future version. Use pandas.concat instead.\n",
            "  cases = cases.append(case, ignore_index=True)\n",
            "<ipython-input-8-24f56788c23e>:19: FutureWarning: The frame.append method is deprecated and will be removed from pandas in a future version. Use pandas.concat instead.\n",
            "  cases = cases.append(case, ignore_index=True)\n",
            "<ipython-input-8-24f56788c23e>:19: FutureWarning: The frame.append method is deprecated and will be removed from pandas in a future version. Use pandas.concat instead.\n",
            "  cases = cases.append(case, ignore_index=True)\n",
            "<ipython-input-8-24f56788c23e>:19: FutureWarning: The frame.append method is deprecated and will be removed from pandas in a future version. Use pandas.concat instead.\n",
            "  cases = cases.append(case, ignore_index=True)\n",
            "<ipython-input-8-24f56788c23e>:19: FutureWarning: The frame.append method is deprecated and will be removed from pandas in a future version. Use pandas.concat instead.\n",
            "  cases = cases.append(case, ignore_index=True)\n",
            "<ipython-input-8-24f56788c23e>:19: FutureWarning: The frame.append method is deprecated and will be removed from pandas in a future version. Use pandas.concat instead.\n",
            "  cases = cases.append(case, ignore_index=True)\n",
            "<ipython-input-8-24f56788c23e>:19: FutureWarning: The frame.append method is deprecated and will be removed from pandas in a future version. Use pandas.concat instead.\n",
            "  cases = cases.append(case, ignore_index=True)\n",
            "<ipython-input-8-24f56788c23e>:19: FutureWarning: The frame.append method is deprecated and will be removed from pandas in a future version. Use pandas.concat instead.\n",
            "  cases = cases.append(case, ignore_index=True)\n",
            "<ipython-input-8-24f56788c23e>:19: FutureWarning: The frame.append method is deprecated and will be removed from pandas in a future version. Use pandas.concat instead.\n",
            "  cases = cases.append(case, ignore_index=True)\n",
            "<ipython-input-8-24f56788c23e>:19: FutureWarning: The frame.append method is deprecated and will be removed from pandas in a future version. Use pandas.concat instead.\n",
            "  cases = cases.append(case, ignore_index=True)\n",
            "<ipython-input-8-24f56788c23e>:19: FutureWarning: The frame.append method is deprecated and will be removed from pandas in a future version. Use pandas.concat instead.\n",
            "  cases = cases.append(case, ignore_index=True)\n",
            "<ipython-input-8-24f56788c23e>:19: FutureWarning: The frame.append method is deprecated and will be removed from pandas in a future version. Use pandas.concat instead.\n",
            "  cases = cases.append(case, ignore_index=True)\n",
            "<ipython-input-8-24f56788c23e>:19: FutureWarning: The frame.append method is deprecated and will be removed from pandas in a future version. Use pandas.concat instead.\n",
            "  cases = cases.append(case, ignore_index=True)\n",
            "<ipython-input-8-24f56788c23e>:19: FutureWarning: The frame.append method is deprecated and will be removed from pandas in a future version. Use pandas.concat instead.\n",
            "  cases = cases.append(case, ignore_index=True)\n",
            "<ipython-input-8-24f56788c23e>:19: FutureWarning: The frame.append method is deprecated and will be removed from pandas in a future version. Use pandas.concat instead.\n",
            "  cases = cases.append(case, ignore_index=True)\n",
            "<ipython-input-8-24f56788c23e>:19: FutureWarning: The frame.append method is deprecated and will be removed from pandas in a future version. Use pandas.concat instead.\n",
            "  cases = cases.append(case, ignore_index=True)\n",
            "<ipython-input-8-24f56788c23e>:19: FutureWarning: The frame.append method is deprecated and will be removed from pandas in a future version. Use pandas.concat instead.\n",
            "  cases = cases.append(case, ignore_index=True)\n"
          ]
        }
      ]
    },
    {
      "cell_type": "code",
      "source": [
        "cases.query('Province_State == \"Sao Paulo\"').head()"
      ],
      "metadata": {
        "id": "nOYxy_zMKBin",
        "colab": {
          "base_uri": "https://localhost:8080/",
          "height": 206
        },
        "outputId": "1ff080d4-f51f-4672-be9f-3b1c57620a93"
      },
      "execution_count": null,
      "outputs": [
        {
          "output_type": "execute_result",
          "data": {
            "text/plain": [
              "    Province_State Country_Region  Confirmed  Deaths  Incident_Rate       Date\n",
              "24       Sao Paulo         Brazil    1466191   46775    3192.990778 2021-01-01\n",
              "51       Sao Paulo         Brazil    1467953   46808    3196.827966 2021-01-02\n",
              "78       Sao Paulo         Brazil    1471422   46845    3204.382565 2021-01-03\n",
              "105      Sao Paulo         Brazil    1473670   46888    3209.278136 2021-01-04\n",
              "132      Sao Paulo         Brazil    1486551   47222    3237.329676 2021-01-05"
            ],
            "text/html": [
              "\n",
              "  <div id=\"df-dc742991-df62-44e6-a9b0-723a5f552d44\" class=\"colab-df-container\">\n",
              "    <div>\n",
              "<style scoped>\n",
              "    .dataframe tbody tr th:only-of-type {\n",
              "        vertical-align: middle;\n",
              "    }\n",
              "\n",
              "    .dataframe tbody tr th {\n",
              "        vertical-align: top;\n",
              "    }\n",
              "\n",
              "    .dataframe thead th {\n",
              "        text-align: right;\n",
              "    }\n",
              "</style>\n",
              "<table border=\"1\" class=\"dataframe\">\n",
              "  <thead>\n",
              "    <tr style=\"text-align: right;\">\n",
              "      <th></th>\n",
              "      <th>Province_State</th>\n",
              "      <th>Country_Region</th>\n",
              "      <th>Confirmed</th>\n",
              "      <th>Deaths</th>\n",
              "      <th>Incident_Rate</th>\n",
              "      <th>Date</th>\n",
              "    </tr>\n",
              "  </thead>\n",
              "  <tbody>\n",
              "    <tr>\n",
              "      <th>24</th>\n",
              "      <td>Sao Paulo</td>\n",
              "      <td>Brazil</td>\n",
              "      <td>1466191</td>\n",
              "      <td>46775</td>\n",
              "      <td>3192.990778</td>\n",
              "      <td>2021-01-01</td>\n",
              "    </tr>\n",
              "    <tr>\n",
              "      <th>51</th>\n",
              "      <td>Sao Paulo</td>\n",
              "      <td>Brazil</td>\n",
              "      <td>1467953</td>\n",
              "      <td>46808</td>\n",
              "      <td>3196.827966</td>\n",
              "      <td>2021-01-02</td>\n",
              "    </tr>\n",
              "    <tr>\n",
              "      <th>78</th>\n",
              "      <td>Sao Paulo</td>\n",
              "      <td>Brazil</td>\n",
              "      <td>1471422</td>\n",
              "      <td>46845</td>\n",
              "      <td>3204.382565</td>\n",
              "      <td>2021-01-03</td>\n",
              "    </tr>\n",
              "    <tr>\n",
              "      <th>105</th>\n",
              "      <td>Sao Paulo</td>\n",
              "      <td>Brazil</td>\n",
              "      <td>1473670</td>\n",
              "      <td>46888</td>\n",
              "      <td>3209.278136</td>\n",
              "      <td>2021-01-04</td>\n",
              "    </tr>\n",
              "    <tr>\n",
              "      <th>132</th>\n",
              "      <td>Sao Paulo</td>\n",
              "      <td>Brazil</td>\n",
              "      <td>1486551</td>\n",
              "      <td>47222</td>\n",
              "      <td>3237.329676</td>\n",
              "      <td>2021-01-05</td>\n",
              "    </tr>\n",
              "  </tbody>\n",
              "</table>\n",
              "</div>\n",
              "    <div class=\"colab-df-buttons\">\n",
              "\n",
              "  <div class=\"colab-df-container\">\n",
              "    <button class=\"colab-df-convert\" onclick=\"convertToInteractive('df-dc742991-df62-44e6-a9b0-723a5f552d44')\"\n",
              "            title=\"Convert this dataframe to an interactive table.\"\n",
              "            style=\"display:none;\">\n",
              "\n",
              "  <svg xmlns=\"http://www.w3.org/2000/svg\" height=\"24px\" viewBox=\"0 -960 960 960\">\n",
              "    <path d=\"M120-120v-720h720v720H120Zm60-500h600v-160H180v160Zm220 220h160v-160H400v160Zm0 220h160v-160H400v160ZM180-400h160v-160H180v160Zm440 0h160v-160H620v160ZM180-180h160v-160H180v160Zm440 0h160v-160H620v160Z\"/>\n",
              "  </svg>\n",
              "    </button>\n",
              "\n",
              "  <style>\n",
              "    .colab-df-container {\n",
              "      display:flex;\n",
              "      gap: 12px;\n",
              "    }\n",
              "\n",
              "    .colab-df-convert {\n",
              "      background-color: #E8F0FE;\n",
              "      border: none;\n",
              "      border-radius: 50%;\n",
              "      cursor: pointer;\n",
              "      display: none;\n",
              "      fill: #1967D2;\n",
              "      height: 32px;\n",
              "      padding: 0 0 0 0;\n",
              "      width: 32px;\n",
              "    }\n",
              "\n",
              "    .colab-df-convert:hover {\n",
              "      background-color: #E2EBFA;\n",
              "      box-shadow: 0px 1px 2px rgba(60, 64, 67, 0.3), 0px 1px 3px 1px rgba(60, 64, 67, 0.15);\n",
              "      fill: #174EA6;\n",
              "    }\n",
              "\n",
              "    .colab-df-buttons div {\n",
              "      margin-bottom: 4px;\n",
              "    }\n",
              "\n",
              "    [theme=dark] .colab-df-convert {\n",
              "      background-color: #3B4455;\n",
              "      fill: #D2E3FC;\n",
              "    }\n",
              "\n",
              "    [theme=dark] .colab-df-convert:hover {\n",
              "      background-color: #434B5C;\n",
              "      box-shadow: 0px 1px 3px 1px rgba(0, 0, 0, 0.15);\n",
              "      filter: drop-shadow(0px 1px 2px rgba(0, 0, 0, 0.3));\n",
              "      fill: #FFFFFF;\n",
              "    }\n",
              "  </style>\n",
              "\n",
              "    <script>\n",
              "      const buttonEl =\n",
              "        document.querySelector('#df-dc742991-df62-44e6-a9b0-723a5f552d44 button.colab-df-convert');\n",
              "      buttonEl.style.display =\n",
              "        google.colab.kernel.accessAllowed ? 'block' : 'none';\n",
              "\n",
              "      async function convertToInteractive(key) {\n",
              "        const element = document.querySelector('#df-dc742991-df62-44e6-a9b0-723a5f552d44');\n",
              "        const dataTable =\n",
              "          await google.colab.kernel.invokeFunction('convertToInteractive',\n",
              "                                                    [key], {});\n",
              "        if (!dataTable) return;\n",
              "\n",
              "        const docLinkHtml = 'Like what you see? Visit the ' +\n",
              "          '<a target=\"_blank\" href=https://colab.research.google.com/notebooks/data_table.ipynb>data table notebook</a>'\n",
              "          + ' to learn more about interactive tables.';\n",
              "        element.innerHTML = '';\n",
              "        dataTable['output_type'] = 'display_data';\n",
              "        await google.colab.output.renderOutput(dataTable, element);\n",
              "        const docLink = document.createElement('div');\n",
              "        docLink.innerHTML = docLinkHtml;\n",
              "        element.appendChild(docLink);\n",
              "      }\n",
              "    </script>\n",
              "  </div>\n",
              "\n",
              "\n",
              "<div id=\"df-57923e99-0fa2-4643-aa5a-17a54bb639c4\">\n",
              "  <button class=\"colab-df-quickchart\" onclick=\"quickchart('df-57923e99-0fa2-4643-aa5a-17a54bb639c4')\"\n",
              "            title=\"Suggest charts.\"\n",
              "            style=\"display:none;\">\n",
              "\n",
              "<svg xmlns=\"http://www.w3.org/2000/svg\" height=\"24px\"viewBox=\"0 0 24 24\"\n",
              "     width=\"24px\">\n",
              "    <g>\n",
              "        <path d=\"M19 3H5c-1.1 0-2 .9-2 2v14c0 1.1.9 2 2 2h14c1.1 0 2-.9 2-2V5c0-1.1-.9-2-2-2zM9 17H7v-7h2v7zm4 0h-2V7h2v10zm4 0h-2v-4h2v4z\"/>\n",
              "    </g>\n",
              "</svg>\n",
              "  </button>\n",
              "\n",
              "<style>\n",
              "  .colab-df-quickchart {\n",
              "      --bg-color: #E8F0FE;\n",
              "      --fill-color: #1967D2;\n",
              "      --hover-bg-color: #E2EBFA;\n",
              "      --hover-fill-color: #174EA6;\n",
              "      --disabled-fill-color: #AAA;\n",
              "      --disabled-bg-color: #DDD;\n",
              "  }\n",
              "\n",
              "  [theme=dark] .colab-df-quickchart {\n",
              "      --bg-color: #3B4455;\n",
              "      --fill-color: #D2E3FC;\n",
              "      --hover-bg-color: #434B5C;\n",
              "      --hover-fill-color: #FFFFFF;\n",
              "      --disabled-bg-color: #3B4455;\n",
              "      --disabled-fill-color: #666;\n",
              "  }\n",
              "\n",
              "  .colab-df-quickchart {\n",
              "    background-color: var(--bg-color);\n",
              "    border: none;\n",
              "    border-radius: 50%;\n",
              "    cursor: pointer;\n",
              "    display: none;\n",
              "    fill: var(--fill-color);\n",
              "    height: 32px;\n",
              "    padding: 0;\n",
              "    width: 32px;\n",
              "  }\n",
              "\n",
              "  .colab-df-quickchart:hover {\n",
              "    background-color: var(--hover-bg-color);\n",
              "    box-shadow: 0 1px 2px rgba(60, 64, 67, 0.3), 0 1px 3px 1px rgba(60, 64, 67, 0.15);\n",
              "    fill: var(--button-hover-fill-color);\n",
              "  }\n",
              "\n",
              "  .colab-df-quickchart-complete:disabled,\n",
              "  .colab-df-quickchart-complete:disabled:hover {\n",
              "    background-color: var(--disabled-bg-color);\n",
              "    fill: var(--disabled-fill-color);\n",
              "    box-shadow: none;\n",
              "  }\n",
              "\n",
              "  .colab-df-spinner {\n",
              "    border: 2px solid var(--fill-color);\n",
              "    border-color: transparent;\n",
              "    border-bottom-color: var(--fill-color);\n",
              "    animation:\n",
              "      spin 1s steps(1) infinite;\n",
              "  }\n",
              "\n",
              "  @keyframes spin {\n",
              "    0% {\n",
              "      border-color: transparent;\n",
              "      border-bottom-color: var(--fill-color);\n",
              "      border-left-color: var(--fill-color);\n",
              "    }\n",
              "    20% {\n",
              "      border-color: transparent;\n",
              "      border-left-color: var(--fill-color);\n",
              "      border-top-color: var(--fill-color);\n",
              "    }\n",
              "    30% {\n",
              "      border-color: transparent;\n",
              "      border-left-color: var(--fill-color);\n",
              "      border-top-color: var(--fill-color);\n",
              "      border-right-color: var(--fill-color);\n",
              "    }\n",
              "    40% {\n",
              "      border-color: transparent;\n",
              "      border-right-color: var(--fill-color);\n",
              "      border-top-color: var(--fill-color);\n",
              "    }\n",
              "    60% {\n",
              "      border-color: transparent;\n",
              "      border-right-color: var(--fill-color);\n",
              "    }\n",
              "    80% {\n",
              "      border-color: transparent;\n",
              "      border-right-color: var(--fill-color);\n",
              "      border-bottom-color: var(--fill-color);\n",
              "    }\n",
              "    90% {\n",
              "      border-color: transparent;\n",
              "      border-bottom-color: var(--fill-color);\n",
              "    }\n",
              "  }\n",
              "</style>\n",
              "\n",
              "  <script>\n",
              "    async function quickchart(key) {\n",
              "      const quickchartButtonEl =\n",
              "        document.querySelector('#' + key + ' button');\n",
              "      quickchartButtonEl.disabled = true;  // To prevent multiple clicks.\n",
              "      quickchartButtonEl.classList.add('colab-df-spinner');\n",
              "      try {\n",
              "        const charts = await google.colab.kernel.invokeFunction(\n",
              "            'suggestCharts', [key], {});\n",
              "      } catch (error) {\n",
              "        console.error('Error during call to suggestCharts:', error);\n",
              "      }\n",
              "      quickchartButtonEl.classList.remove('colab-df-spinner');\n",
              "      quickchartButtonEl.classList.add('colab-df-quickchart-complete');\n",
              "    }\n",
              "    (() => {\n",
              "      let quickchartButtonEl =\n",
              "        document.querySelector('#df-57923e99-0fa2-4643-aa5a-17a54bb639c4 button');\n",
              "      quickchartButtonEl.style.display =\n",
              "        google.colab.kernel.accessAllowed ? 'block' : 'none';\n",
              "    })();\n",
              "  </script>\n",
              "</div>\n",
              "    </div>\n",
              "  </div>\n"
            ]
          },
          "metadata": {},
          "execution_count": 9
        }
      ]
    },
    {
      "cell_type": "markdown",
      "source": [
        "#### **2.1.2. Wrangling**"
      ],
      "metadata": {
        "id": "Z3HiqQRkOMGc"
      }
    },
    {
      "cell_type": "markdown",
      "source": [
        "Vamos manipular os dados para o dashboard. O foco é em garantir uma boa granularidade e qualidade da base de dados."
      ],
      "metadata": {
        "id": "ceDNL40JzB0K"
      }
    },
    {
      "cell_type": "code",
      "source": [
        "cases.head()"
      ],
      "metadata": {
        "id": "G66lP6tOqya_"
      },
      "execution_count": null,
      "outputs": []
    },
    {
      "cell_type": "code",
      "source": [
        "cases.shape"
      ],
      "metadata": {
        "id": "Z4yQeP4bVCC5"
      },
      "execution_count": null,
      "outputs": []
    },
    {
      "cell_type": "code",
      "source": [
        "cases.info()"
      ],
      "metadata": {
        "id": "pRs8xDlcU-y0"
      },
      "execution_count": null,
      "outputs": []
    },
    {
      "cell_type": "markdown",
      "source": [
        "Começamos com o nome das colunas."
      ],
      "metadata": {
        "id": "hgFFhUQgzFZ8"
      }
    },
    {
      "cell_type": "code",
      "source": [
        "cases = cases.rename(\n",
        "  columns={\n",
        "    'Province_State': 'state',\n",
        "    'Country_Region': 'country'\n",
        "  }\n",
        ")\n",
        "\n",
        "for col in cases.columns:\n",
        "  cases = cases.rename(columns={col: col.lower()})"
      ],
      "metadata": {
        "id": "1w9pQ8d_UCJO"
      },
      "execution_count": null,
      "outputs": []
    },
    {
      "cell_type": "markdown",
      "source": [
        "Ajustamos o nome dos estados."
      ],
      "metadata": {
        "id": "q2p4qjZUn-e2"
      }
    },
    {
      "cell_type": "code",
      "source": [
        "states_map = {\n",
        "    'Amapa': 'Amapá',\n",
        "    'Ceara': 'Ceará',\n",
        "    'Espirito Santo': 'Espírito Santo',\n",
        "    'Goias': 'Goiás',\n",
        "    'Para': 'Pará',\n",
        "    'Paraiba': 'Paraíba',\n",
        "    'Parana': 'Paraná',\n",
        "    'Piaui': 'Piauí',\n",
        "    'Rondonia': 'Rondônia',\n",
        "    'Sao Paulo': 'São Paulo'\n",
        "}\n",
        "\n",
        "cases['state'] = cases['state'].apply(lambda state: states_map.get(state) if state in states_map.keys() else state)"
      ],
      "metadata": {
        "id": "LBajRRZEnlms"
      },
      "execution_count": null,
      "outputs": []
    },
    {
      "cell_type": "markdown",
      "source": [
        "Vamos então computar novas colunas para enriquecer a base de dados."
      ],
      "metadata": {
        "id": "niRCU0-JzHV2"
      }
    },
    {
      "cell_type": "markdown",
      "source": [
        " - Chaves temporais:"
      ],
      "metadata": {
        "id": "V8Ijno5d28L-"
      }
    },
    {
      "cell_type": "code",
      "source": [
        "cases['month'] = cases['date'].apply(lambda date: date.strftime('%Y-%m'))\n",
        "cases['year']  = cases['date'].apply(lambda date: date.strftime('%Y'))"
      ],
      "metadata": {
        "id": "uRYhqYtRYYPI"
      },
      "execution_count": null,
      "outputs": []
    },
    {
      "cell_type": "markdown",
      "source": [
        " - População estimada do estado:"
      ],
      "metadata": {
        "id": "d9tjVG7o2_IT"
      }
    },
    {
      "cell_type": "code",
      "source": [
        "cases['population'] = round(100000 * (cases['confirmed'] / cases['incident_rate']))\n",
        "cases = cases.drop('incident_rate', axis=1)"
      ],
      "metadata": {
        "id": "1U6wV_zngbZW"
      },
      "execution_count": null,
      "outputs": []
    },
    {
      "cell_type": "markdown",
      "source": [
        " - Número, média móvel (7 dias) e estabilidade (14 dias) de casos e mortes por estado:"
      ],
      "metadata": {
        "id": "LCxMEJP53E3v"
      }
    },
    {
      "cell_type": "markdown",
      "source": [
        "| 1 | 2 | 3 | 4 | 5 | 6 | <font color='red'>7</font> | <font color='green'>8</font> | 9 | 10 | 11 | 12 | 13 | <font color='blue'>14<font color='red'> | 15 | 16 | 17 | 18 | 19 | 20 | 21 |\n",
        "| - | - | - | - | - | - | - | - | - | -- | -- | -- | -- | -- | -- | -- | -- | -- | -- | -- | -- |\n",
        "| <font color='red'>D-6</font> | <font color='red'>D-5</font> | <font color='red'>D-4</font> | <font color='red'>D-3</font> | <font color='red'>D-2</font> | <font color='red'>D-1</font> | <font color='red'>D0</font> | | | | | | | | | | | | | | |\n",
        "| D-7 | <font color='green'>D-6</font> | <font color='green'>D-5</font> | <font color='green'>D-4</font> | <font color='green'>D-3</font> | <font color='green'>D-2</font> | <font color='green'>D-1</font> | <font color='green'>D0</font> | | | | | | | | | | | | | |\n",
        "| D-13 | D-12 | D-11 | D-10 | D-9 | D-8 | D-7 | <font color='blue'>D-6</font> | <font color='blue'>D-5</font> | <font color='blue'>D-4</font> | <font color='blue'>D-3</font> | <font color='blue'>D-2</font> | <font color='blue'>D-1</font> | <font color='blue'>D0</font> | | | | | | | |"
      ],
      "metadata": {
        "id": "ZSHsw4H1oyjI"
      }
    },
    {
      "cell_type": "code",
      "source": [
        "cases_ = None\n",
        "cases_is_empty = True\n",
        "\n",
        "def get_trend(rate: float) -> str:\n",
        "\n",
        "  if np.isnan(rate):\n",
        "    return np.NaN\n",
        "\n",
        "  if rate < 0.75:\n",
        "    status = 'downward'\n",
        "  elif rate > 1.15:\n",
        "    status = 'upward'\n",
        "  else:\n",
        "    status = 'stable'\n",
        "\n",
        "  return status\n",
        "\n",
        "\n",
        "for state in cases['state'].drop_duplicates():\n",
        "\n",
        "  cases_per_state = cases.query(f'state == \"{state}\"').reset_index(drop=True)\n",
        "  cases_per_state = cases_per_state.sort_values(by=['date'])\n",
        "\n",
        "  cases_per_state['confirmed_1d'] = cases_per_state['confirmed'].diff(periods=1)\n",
        "  cases_per_state['confirmed_moving_avg_7d'] = np.ceil(cases_per_state['confirmed_1d'].rolling(window=7).mean())\n",
        "  cases_per_state['confirmed_moving_avg_7d_rate_14d'] = cases_per_state['confirmed_moving_avg_7d']/cases_per_state['confirmed_moving_avg_7d'].shift(periods=14)\n",
        "  cases_per_state['confirmed_trend'] = cases_per_state['confirmed_moving_avg_7d_rate_14d'].apply(get_trend)\n",
        "\n",
        "  cases_per_state['deaths_1d'] = cases_per_state['deaths'].diff(periods=1)\n",
        "  cases_per_state['deaths_moving_avg_7d'] = np.ceil(cases_per_state['deaths_1d'].rolling(window=7).mean())\n",
        "  cases_per_state['deaths_moving_avg_7d_rate_14d'] = cases_per_state['deaths_moving_avg_7d']/cases_per_state['deaths_moving_avg_7d'].shift(periods=14)\n",
        "  cases_per_state['deaths_trend'] = cases_per_state['deaths_moving_avg_7d_rate_14d'].apply(get_trend)\n",
        "\n",
        "  if cases_is_empty:\n",
        "    cases_ = cases_per_state\n",
        "    cases_is_empty = False\n",
        "  else:\n",
        "    cases_ = cases_.append(cases_per_state, ignore_index=True)\n",
        "\n",
        "cases = cases_\n",
        "cases_ = None"
      ],
      "metadata": {
        "id": "8ytrpaND3ZMQ"
      },
      "execution_count": null,
      "outputs": []
    },
    {
      "cell_type": "markdown",
      "source": [
        "Garantir o tipo do dado é fundamental para consistência da base de dados. Vamos fazer o *type casting* das colunas."
      ],
      "metadata": {
        "id": "hisru_0i07Pg"
      }
    },
    {
      "cell_type": "code",
      "source": [
        "cases['population'] = cases['population'].astype('Int64')\n",
        "cases['confirmed_1d'] = cases['confirmed_1d'].astype('Int64')\n",
        "cases['confirmed_moving_avg_7d'] = cases['confirmed_moving_avg_7d'].astype('Int64')\n",
        "cases['deaths_1d'] = cases['deaths_1d'].astype('Int64')\n",
        "cases['deaths_moving_avg_7d'] = cases['deaths_moving_avg_7d'].astype('Int64')"
      ],
      "metadata": {
        "id": "p7nalDg6KvFZ"
      },
      "execution_count": null,
      "outputs": []
    },
    {
      "cell_type": "markdown",
      "source": [
        "Por fim, vamos reorganizar as colunas e conferir o resultado final."
      ],
      "metadata": {
        "id": "LOwQaxtfgYka"
      }
    },
    {
      "cell_type": "code",
      "source": [
        "cases = cases[['date', 'country', 'state', 'population', 'confirmed', 'confirmed_1d', 'confirmed_moving_avg_7d', 'confirmed_moving_avg_7d_rate_14d', 'confirmed_trend', 'deaths', 'deaths_1d', 'deaths_moving_avg_7d', 'deaths_moving_avg_7d_rate_14d', 'deaths_trend', 'month', 'year']]"
      ],
      "metadata": {
        "id": "6fkkdIXVZL-E"
      },
      "execution_count": null,
      "outputs": []
    },
    {
      "cell_type": "code",
      "source": [
        "cases.head(n=25)"
      ],
      "metadata": {
        "id": "wUZetbA5zNO8"
      },
      "execution_count": null,
      "outputs": []
    },
    {
      "cell_type": "markdown",
      "source": [
        "#### **2.1.3. Carregamento**"
      ],
      "metadata": {
        "id": "KaLl8zdofQwE"
      }
    },
    {
      "cell_type": "markdown",
      "source": [
        "Com os dados manipulados, vamos persisti-lo em disco, fazer o seu download e carrega-lo no Google Data Studio."
      ],
      "metadata": {
        "id": "b1vD9VLafQwG"
      }
    },
    {
      "cell_type": "code",
      "source": [
        "cases.to_csv('./covid-cases.csv', sep=',', index=False)"
      ],
      "metadata": {
        "id": "mAazd-g0fQwG"
      },
      "execution_count": null,
      "outputs": []
    },
    {
      "cell_type": "markdown",
      "source": [
        "### **2.2. Vacinação**"
      ],
      "metadata": {
        "id": "ndJlwEdGpvRO"
      }
    },
    {
      "cell_type": "markdown",
      "source": [
        "Vamos processar os dados de **vacinação** da universidade de Oxford."
      ],
      "metadata": {
        "id": "4KimqDnGbHbI"
      }
    },
    {
      "cell_type": "markdown",
      "source": [
        "#### **2.2.1. Extração**"
      ],
      "metadata": {
        "id": "3SsBfzTOUwZh"
      }
    },
    {
      "cell_type": "markdown",
      "source": [
        "Os dados estão compilados em um único arquivo."
      ],
      "metadata": {
        "id": "k6ZYYdAKRQGS"
      }
    },
    {
      "cell_type": "code",
      "metadata": {
        "id": "G8nM5lc0USbd"
      },
      "source": [
        "vaccines = pd.read_csv('https://covid.ourworldindata.org/data/owid-covid-data.csv', sep=',', parse_dates=[3], infer_datetime_format=True)"
      ],
      "execution_count": 2,
      "outputs": []
    },
    {
      "cell_type": "code",
      "metadata": {
        "id": "UCLtev1dUnuY",
        "colab": {
          "base_uri": "https://localhost:8080/",
          "height": 342
        },
        "outputId": "83762cdc-d7ce-46aa-dda3-feecf8851d44"
      },
      "source": [
        "vaccines.head()"
      ],
      "execution_count": 3,
      "outputs": [
        {
          "output_type": "execute_result",
          "data": {
            "text/plain": [
              "  iso_code continent     location       date  total_cases  ...  population  \\\n",
              "0      AFG      Asia  Afghanistan 2020-01-03          NaN  ...  41128772.0   \n",
              "1      AFG      Asia  Afghanistan 2020-01-04          NaN  ...  41128772.0   \n",
              "2      AFG      Asia  Afghanistan 2020-01-05          NaN  ...  41128772.0   \n",
              "3      AFG      Asia  Afghanistan 2020-01-06          NaN  ...  41128772.0   \n",
              "4      AFG      Asia  Afghanistan 2020-01-07          NaN  ...  41128772.0   \n",
              "\n",
              "   excess_mortality_cumulative_absolute  excess_mortality_cumulative  \\\n",
              "0                                   NaN                          NaN   \n",
              "1                                   NaN                          NaN   \n",
              "2                                   NaN                          NaN   \n",
              "3                                   NaN                          NaN   \n",
              "4                                   NaN                          NaN   \n",
              "\n",
              "   excess_mortality  excess_mortality_cumulative_per_million  \n",
              "0               NaN                                      NaN  \n",
              "1               NaN                                      NaN  \n",
              "2               NaN                                      NaN  \n",
              "3               NaN                                      NaN  \n",
              "4               NaN                                      NaN  \n",
              "\n",
              "[5 rows x 67 columns]"
            ],
            "text/html": [
              "\n",
              "  <div id=\"df-87e81173-574e-4659-a791-7c646c31b6c1\" class=\"colab-df-container\">\n",
              "    <div>\n",
              "<style scoped>\n",
              "    .dataframe tbody tr th:only-of-type {\n",
              "        vertical-align: middle;\n",
              "    }\n",
              "\n",
              "    .dataframe tbody tr th {\n",
              "        vertical-align: top;\n",
              "    }\n",
              "\n",
              "    .dataframe thead th {\n",
              "        text-align: right;\n",
              "    }\n",
              "</style>\n",
              "<table border=\"1\" class=\"dataframe\">\n",
              "  <thead>\n",
              "    <tr style=\"text-align: right;\">\n",
              "      <th></th>\n",
              "      <th>iso_code</th>\n",
              "      <th>continent</th>\n",
              "      <th>location</th>\n",
              "      <th>date</th>\n",
              "      <th>total_cases</th>\n",
              "      <th>...</th>\n",
              "      <th>population</th>\n",
              "      <th>excess_mortality_cumulative_absolute</th>\n",
              "      <th>excess_mortality_cumulative</th>\n",
              "      <th>excess_mortality</th>\n",
              "      <th>excess_mortality_cumulative_per_million</th>\n",
              "    </tr>\n",
              "  </thead>\n",
              "  <tbody>\n",
              "    <tr>\n",
              "      <th>0</th>\n",
              "      <td>AFG</td>\n",
              "      <td>Asia</td>\n",
              "      <td>Afghanistan</td>\n",
              "      <td>2020-01-03</td>\n",
              "      <td>NaN</td>\n",
              "      <td>...</td>\n",
              "      <td>41128772.0</td>\n",
              "      <td>NaN</td>\n",
              "      <td>NaN</td>\n",
              "      <td>NaN</td>\n",
              "      <td>NaN</td>\n",
              "    </tr>\n",
              "    <tr>\n",
              "      <th>1</th>\n",
              "      <td>AFG</td>\n",
              "      <td>Asia</td>\n",
              "      <td>Afghanistan</td>\n",
              "      <td>2020-01-04</td>\n",
              "      <td>NaN</td>\n",
              "      <td>...</td>\n",
              "      <td>41128772.0</td>\n",
              "      <td>NaN</td>\n",
              "      <td>NaN</td>\n",
              "      <td>NaN</td>\n",
              "      <td>NaN</td>\n",
              "    </tr>\n",
              "    <tr>\n",
              "      <th>2</th>\n",
              "      <td>AFG</td>\n",
              "      <td>Asia</td>\n",
              "      <td>Afghanistan</td>\n",
              "      <td>2020-01-05</td>\n",
              "      <td>NaN</td>\n",
              "      <td>...</td>\n",
              "      <td>41128772.0</td>\n",
              "      <td>NaN</td>\n",
              "      <td>NaN</td>\n",
              "      <td>NaN</td>\n",
              "      <td>NaN</td>\n",
              "    </tr>\n",
              "    <tr>\n",
              "      <th>3</th>\n",
              "      <td>AFG</td>\n",
              "      <td>Asia</td>\n",
              "      <td>Afghanistan</td>\n",
              "      <td>2020-01-06</td>\n",
              "      <td>NaN</td>\n",
              "      <td>...</td>\n",
              "      <td>41128772.0</td>\n",
              "      <td>NaN</td>\n",
              "      <td>NaN</td>\n",
              "      <td>NaN</td>\n",
              "      <td>NaN</td>\n",
              "    </tr>\n",
              "    <tr>\n",
              "      <th>4</th>\n",
              "      <td>AFG</td>\n",
              "      <td>Asia</td>\n",
              "      <td>Afghanistan</td>\n",
              "      <td>2020-01-07</td>\n",
              "      <td>NaN</td>\n",
              "      <td>...</td>\n",
              "      <td>41128772.0</td>\n",
              "      <td>NaN</td>\n",
              "      <td>NaN</td>\n",
              "      <td>NaN</td>\n",
              "      <td>NaN</td>\n",
              "    </tr>\n",
              "  </tbody>\n",
              "</table>\n",
              "<p>5 rows × 67 columns</p>\n",
              "</div>\n",
              "    <div class=\"colab-df-buttons\">\n",
              "\n",
              "  <div class=\"colab-df-container\">\n",
              "    <button class=\"colab-df-convert\" onclick=\"convertToInteractive('df-87e81173-574e-4659-a791-7c646c31b6c1')\"\n",
              "            title=\"Convert this dataframe to an interactive table.\"\n",
              "            style=\"display:none;\">\n",
              "\n",
              "  <svg xmlns=\"http://www.w3.org/2000/svg\" height=\"24px\" viewBox=\"0 -960 960 960\">\n",
              "    <path d=\"M120-120v-720h720v720H120Zm60-500h600v-160H180v160Zm220 220h160v-160H400v160Zm0 220h160v-160H400v160ZM180-400h160v-160H180v160Zm440 0h160v-160H620v160ZM180-180h160v-160H180v160Zm440 0h160v-160H620v160Z\"/>\n",
              "  </svg>\n",
              "    </button>\n",
              "\n",
              "  <style>\n",
              "    .colab-df-container {\n",
              "      display:flex;\n",
              "      gap: 12px;\n",
              "    }\n",
              "\n",
              "    .colab-df-convert {\n",
              "      background-color: #E8F0FE;\n",
              "      border: none;\n",
              "      border-radius: 50%;\n",
              "      cursor: pointer;\n",
              "      display: none;\n",
              "      fill: #1967D2;\n",
              "      height: 32px;\n",
              "      padding: 0 0 0 0;\n",
              "      width: 32px;\n",
              "    }\n",
              "\n",
              "    .colab-df-convert:hover {\n",
              "      background-color: #E2EBFA;\n",
              "      box-shadow: 0px 1px 2px rgba(60, 64, 67, 0.3), 0px 1px 3px 1px rgba(60, 64, 67, 0.15);\n",
              "      fill: #174EA6;\n",
              "    }\n",
              "\n",
              "    .colab-df-buttons div {\n",
              "      margin-bottom: 4px;\n",
              "    }\n",
              "\n",
              "    [theme=dark] .colab-df-convert {\n",
              "      background-color: #3B4455;\n",
              "      fill: #D2E3FC;\n",
              "    }\n",
              "\n",
              "    [theme=dark] .colab-df-convert:hover {\n",
              "      background-color: #434B5C;\n",
              "      box-shadow: 0px 1px 3px 1px rgba(0, 0, 0, 0.15);\n",
              "      filter: drop-shadow(0px 1px 2px rgba(0, 0, 0, 0.3));\n",
              "      fill: #FFFFFF;\n",
              "    }\n",
              "  </style>\n",
              "\n",
              "    <script>\n",
              "      const buttonEl =\n",
              "        document.querySelector('#df-87e81173-574e-4659-a791-7c646c31b6c1 button.colab-df-convert');\n",
              "      buttonEl.style.display =\n",
              "        google.colab.kernel.accessAllowed ? 'block' : 'none';\n",
              "\n",
              "      async function convertToInteractive(key) {\n",
              "        const element = document.querySelector('#df-87e81173-574e-4659-a791-7c646c31b6c1');\n",
              "        const dataTable =\n",
              "          await google.colab.kernel.invokeFunction('convertToInteractive',\n",
              "                                                    [key], {});\n",
              "        if (!dataTable) return;\n",
              "\n",
              "        const docLinkHtml = 'Like what you see? Visit the ' +\n",
              "          '<a target=\"_blank\" href=https://colab.research.google.com/notebooks/data_table.ipynb>data table notebook</a>'\n",
              "          + ' to learn more about interactive tables.';\n",
              "        element.innerHTML = '';\n",
              "        dataTable['output_type'] = 'display_data';\n",
              "        await google.colab.output.renderOutput(dataTable, element);\n",
              "        const docLink = document.createElement('div');\n",
              "        docLink.innerHTML = docLinkHtml;\n",
              "        element.appendChild(docLink);\n",
              "      }\n",
              "    </script>\n",
              "  </div>\n",
              "\n",
              "\n",
              "<div id=\"df-a15775b1-ddf4-4197-bdf6-f081531cb6c8\">\n",
              "  <button class=\"colab-df-quickchart\" onclick=\"quickchart('df-a15775b1-ddf4-4197-bdf6-f081531cb6c8')\"\n",
              "            title=\"Suggest charts.\"\n",
              "            style=\"display:none;\">\n",
              "\n",
              "<svg xmlns=\"http://www.w3.org/2000/svg\" height=\"24px\"viewBox=\"0 0 24 24\"\n",
              "     width=\"24px\">\n",
              "    <g>\n",
              "        <path d=\"M19 3H5c-1.1 0-2 .9-2 2v14c0 1.1.9 2 2 2h14c1.1 0 2-.9 2-2V5c0-1.1-.9-2-2-2zM9 17H7v-7h2v7zm4 0h-2V7h2v10zm4 0h-2v-4h2v4z\"/>\n",
              "    </g>\n",
              "</svg>\n",
              "  </button>\n",
              "\n",
              "<style>\n",
              "  .colab-df-quickchart {\n",
              "      --bg-color: #E8F0FE;\n",
              "      --fill-color: #1967D2;\n",
              "      --hover-bg-color: #E2EBFA;\n",
              "      --hover-fill-color: #174EA6;\n",
              "      --disabled-fill-color: #AAA;\n",
              "      --disabled-bg-color: #DDD;\n",
              "  }\n",
              "\n",
              "  [theme=dark] .colab-df-quickchart {\n",
              "      --bg-color: #3B4455;\n",
              "      --fill-color: #D2E3FC;\n",
              "      --hover-bg-color: #434B5C;\n",
              "      --hover-fill-color: #FFFFFF;\n",
              "      --disabled-bg-color: #3B4455;\n",
              "      --disabled-fill-color: #666;\n",
              "  }\n",
              "\n",
              "  .colab-df-quickchart {\n",
              "    background-color: var(--bg-color);\n",
              "    border: none;\n",
              "    border-radius: 50%;\n",
              "    cursor: pointer;\n",
              "    display: none;\n",
              "    fill: var(--fill-color);\n",
              "    height: 32px;\n",
              "    padding: 0;\n",
              "    width: 32px;\n",
              "  }\n",
              "\n",
              "  .colab-df-quickchart:hover {\n",
              "    background-color: var(--hover-bg-color);\n",
              "    box-shadow: 0 1px 2px rgba(60, 64, 67, 0.3), 0 1px 3px 1px rgba(60, 64, 67, 0.15);\n",
              "    fill: var(--button-hover-fill-color);\n",
              "  }\n",
              "\n",
              "  .colab-df-quickchart-complete:disabled,\n",
              "  .colab-df-quickchart-complete:disabled:hover {\n",
              "    background-color: var(--disabled-bg-color);\n",
              "    fill: var(--disabled-fill-color);\n",
              "    box-shadow: none;\n",
              "  }\n",
              "\n",
              "  .colab-df-spinner {\n",
              "    border: 2px solid var(--fill-color);\n",
              "    border-color: transparent;\n",
              "    border-bottom-color: var(--fill-color);\n",
              "    animation:\n",
              "      spin 1s steps(1) infinite;\n",
              "  }\n",
              "\n",
              "  @keyframes spin {\n",
              "    0% {\n",
              "      border-color: transparent;\n",
              "      border-bottom-color: var(--fill-color);\n",
              "      border-left-color: var(--fill-color);\n",
              "    }\n",
              "    20% {\n",
              "      border-color: transparent;\n",
              "      border-left-color: var(--fill-color);\n",
              "      border-top-color: var(--fill-color);\n",
              "    }\n",
              "    30% {\n",
              "      border-color: transparent;\n",
              "      border-left-color: var(--fill-color);\n",
              "      border-top-color: var(--fill-color);\n",
              "      border-right-color: var(--fill-color);\n",
              "    }\n",
              "    40% {\n",
              "      border-color: transparent;\n",
              "      border-right-color: var(--fill-color);\n",
              "      border-top-color: var(--fill-color);\n",
              "    }\n",
              "    60% {\n",
              "      border-color: transparent;\n",
              "      border-right-color: var(--fill-color);\n",
              "    }\n",
              "    80% {\n",
              "      border-color: transparent;\n",
              "      border-right-color: var(--fill-color);\n",
              "      border-bottom-color: var(--fill-color);\n",
              "    }\n",
              "    90% {\n",
              "      border-color: transparent;\n",
              "      border-bottom-color: var(--fill-color);\n",
              "    }\n",
              "  }\n",
              "</style>\n",
              "\n",
              "  <script>\n",
              "    async function quickchart(key) {\n",
              "      const quickchartButtonEl =\n",
              "        document.querySelector('#' + key + ' button');\n",
              "      quickchartButtonEl.disabled = true;  // To prevent multiple clicks.\n",
              "      quickchartButtonEl.classList.add('colab-df-spinner');\n",
              "      try {\n",
              "        const charts = await google.colab.kernel.invokeFunction(\n",
              "            'suggestCharts', [key], {});\n",
              "      } catch (error) {\n",
              "        console.error('Error during call to suggestCharts:', error);\n",
              "      }\n",
              "      quickchartButtonEl.classList.remove('colab-df-spinner');\n",
              "      quickchartButtonEl.classList.add('colab-df-quickchart-complete');\n",
              "    }\n",
              "    (() => {\n",
              "      let quickchartButtonEl =\n",
              "        document.querySelector('#df-a15775b1-ddf4-4197-bdf6-f081531cb6c8 button');\n",
              "      quickchartButtonEl.style.display =\n",
              "        google.colab.kernel.accessAllowed ? 'block' : 'none';\n",
              "    })();\n",
              "  </script>\n",
              "</div>\n",
              "    </div>\n",
              "  </div>\n"
            ]
          },
          "metadata": {},
          "execution_count": 3
        }
      ]
    },
    {
      "cell_type": "markdown",
      "source": [
        "Vamos selecionar as colunas de interesse e as linhas referentes ao Brasil."
      ],
      "metadata": {
        "id": "ImybLrrgRS4v"
      }
    },
    {
      "cell_type": "code",
      "metadata": {
        "id": "4RNfnnUZW6DY"
      },
      "source": [
        "vaccines = vaccines.query('location == \"Brazil\"').reset_index(drop=True)\n",
        "vaccines = vaccines[['location', 'population', 'total_vaccinations', 'people_vaccinated', 'people_fully_vaccinated', 'total_boosters', 'date']]"
      ],
      "execution_count": null,
      "outputs": []
    },
    {
      "cell_type": "code",
      "source": [
        "vaccines.head()"
      ],
      "metadata": {
        "id": "e4kmFIpkPm1s"
      },
      "execution_count": null,
      "outputs": []
    },
    {
      "cell_type": "markdown",
      "source": [
        "#### **2.2.2. Wrangling**"
      ],
      "metadata": {
        "id": "ANfJty-Iff4F"
      }
    },
    {
      "cell_type": "markdown",
      "source": [
        "Vamos manipular os dados para o dashboard. O foco é em garantir uma boa granularidade e qualidade da base de dados."
      ],
      "metadata": {
        "id": "XVh6eEL3zSqm"
      }
    },
    {
      "cell_type": "code",
      "source": [
        "vaccines.head()"
      ],
      "metadata": {
        "id": "zl5Elp43flYU",
        "colab": {
          "base_uri": "https://localhost:8080/",
          "height": 175
        },
        "outputId": "5a4fb4ad-8771-47dc-bddd-987b10e2e91e"
      },
      "execution_count": null,
      "outputs": [
        {
          "output_type": "error",
          "ename": "NameError",
          "evalue": "ignored",
          "traceback": [
            "\u001b[0;31m---------------------------------------------------------------------------\u001b[0m",
            "\u001b[0;31mNameError\u001b[0m                                 Traceback (most recent call last)",
            "\u001b[0;32m<ipython-input-1-3af05304e0bf>\u001b[0m in \u001b[0;36m<cell line: 1>\u001b[0;34m()\u001b[0m\n\u001b[0;32m----> 1\u001b[0;31m \u001b[0mvaccines\u001b[0m\u001b[0;34m.\u001b[0m\u001b[0mhead\u001b[0m\u001b[0;34m(\u001b[0m\u001b[0;34m)\u001b[0m\u001b[0;34m\u001b[0m\u001b[0;34m\u001b[0m\u001b[0m\n\u001b[0m",
            "\u001b[0;31mNameError\u001b[0m: name 'vaccines' is not defined"
          ]
        }
      ]
    },
    {
      "cell_type": "code",
      "source": [
        "vaccines.shape"
      ],
      "metadata": {
        "id": "GOH412CJflYV"
      },
      "execution_count": null,
      "outputs": []
    },
    {
      "cell_type": "code",
      "source": [
        "vaccines.info()"
      ],
      "metadata": {
        "id": "QV6H5gl6flYW"
      },
      "execution_count": null,
      "outputs": []
    },
    {
      "cell_type": "markdown",
      "source": [
        "Vamos começar tratando os dados faltantes, a estratégia será a de preencher os buracos com o valor anterior válido mais próximo."
      ],
      "metadata": {
        "id": "L5CaqVEzzaYH"
      }
    },
    {
      "cell_type": "code",
      "source": [
        "vaccines = vaccines.fillna(method='ffill')"
      ],
      "metadata": {
        "id": "7UlhJa5M0fMz"
      },
      "execution_count": null,
      "outputs": []
    },
    {
      "cell_type": "markdown",
      "source": [
        "Vamos também filtrar a base de dados de acordo com a coluna `date` para garantir que ambas as bases de dados tratam do mesmo período de tempo."
      ],
      "metadata": {
        "id": "GibNnv1hfe8t"
      }
    },
    {
      "cell_type": "code",
      "source": [
        "vaccines = vaccines[(vaccines['date'] >= '2021-01-01') & (vaccines['date'] <= '2021-12-31')].reset_index(drop=True)"
      ],
      "metadata": {
        "id": "bB8n5Nq0e51M"
      },
      "execution_count": null,
      "outputs": []
    },
    {
      "cell_type": "markdown",
      "source": [
        "Agora, vamos alterar o nome das colunas."
      ],
      "metadata": {
        "id": "HeVzXS5pzUyh"
      }
    },
    {
      "cell_type": "code",
      "source": [
        "vaccines = vaccines.rename(\n",
        "  columns={\n",
        "    'location': 'country',\n",
        "    'total_vaccinations': 'total',\n",
        "    'people_vaccinated': 'one_shot',\n",
        "    'people_fully_vaccinated': 'two_shots',\n",
        "    'total_boosters': 'three_shots',\n",
        "  }\n",
        ")"
      ],
      "metadata": {
        "id": "onD0FAQ2fuZG"
      },
      "execution_count": null,
      "outputs": []
    },
    {
      "cell_type": "markdown",
      "source": [
        "Vamos então computar novas colunas para enriquecer a base de dados."
      ],
      "metadata": {
        "id": "3WEwZVW8zZdQ"
      }
    },
    {
      "cell_type": "markdown",
      "source": [
        " - Chaves temporais:"
      ],
      "metadata": {
        "id": "TtVVYdEn1xBu"
      }
    },
    {
      "cell_type": "code",
      "source": [
        "vaccines['month'] = vaccines['date'].apply(lambda date: date.strftime('%Y-%m'))\n",
        "vaccines['year']  = vaccines['date'].apply(lambda date: date.strftime('%Y'))"
      ],
      "metadata": {
        "id": "69n_u8z-fuZI"
      },
      "execution_count": null,
      "outputs": []
    },
    {
      "cell_type": "markdown",
      "source": [
        " - Dados relativos:"
      ],
      "metadata": {
        "id": "RToFxe8s13WZ"
      }
    },
    {
      "cell_type": "code",
      "source": [
        "vaccines['one_shot_perc'] = round(vaccines['one_shot'] / vaccines['population'], 4)\n",
        "vaccines['two_shots_perc'] = round(vaccines['two_shots'] / vaccines['population'], 4)\n",
        "vaccines['three_shots_perc'] = round(vaccines['three_shots'] / vaccines['population'], 4)"
      ],
      "metadata": {
        "id": "0p5fH8yI160u"
      },
      "execution_count": null,
      "outputs": []
    },
    {
      "cell_type": "markdown",
      "source": [
        "Garantir o tipo do dado é fundamental para consistência da base de dados. Vamos fazer o *type casting* das colunas."
      ],
      "metadata": {
        "id": "AwBPeUoH018t"
      }
    },
    {
      "cell_type": "code",
      "source": [
        "vaccines['population'] = vaccines['population'].astype('Int64')\n",
        "vaccines['total'] = vaccines['total'].astype('Int64')\n",
        "vaccines['one_shot'] = vaccines['one_shot'].astype('Int64')\n",
        "vaccines['two_shots'] = vaccines['two_shots'].astype('Int64')\n",
        "vaccines['three_shots'] = vaccines['three_shots'].astype('Int64')"
      ],
      "metadata": {
        "id": "bkebNuXF024g"
      },
      "execution_count": null,
      "outputs": []
    },
    {
      "cell_type": "markdown",
      "source": [
        "Por fim, vamos reorganizar as colunas e conferir o resultado final."
      ],
      "metadata": {
        "id": "R8s4jBC4gUrq"
      }
    },
    {
      "cell_type": "code",
      "source": [
        "vaccines = vaccines[['date', 'country', 'population', 'total', 'one_shot', 'one_shot_perc', 'two_shots', 'two_shots_perc', 'three_shots', 'three_shots_perc', 'month', 'year']]"
      ],
      "metadata": {
        "id": "GRqAQTFxfuZJ"
      },
      "execution_count": null,
      "outputs": []
    },
    {
      "cell_type": "code",
      "source": [
        "vaccines.tail()"
      ],
      "metadata": {
        "id": "RqeuGtCPzXmj"
      },
      "execution_count": null,
      "outputs": []
    },
    {
      "cell_type": "markdown",
      "source": [
        "#### **2.2.3. Carregamento**"
      ],
      "metadata": {
        "id": "yhTcLXpaV5-F"
      }
    },
    {
      "cell_type": "markdown",
      "source": [
        "Com os dados manipulados, vamos persisti-lo em disco, fazer o seu download e carrega-lo no Google Data Studio."
      ],
      "metadata": {
        "id": "ciQaKaE8WDYL"
      }
    },
    {
      "cell_type": "code",
      "source": [
        "vaccines.to_csv('./covid-vaccines.csv', sep=',', index=False)"
      ],
      "metadata": {
        "id": "ur-OHsXIWN_-"
      },
      "execution_count": null,
      "outputs": []
    },
    {
      "cell_type": "markdown",
      "metadata": {
        "id": "PD0FiM7UJOGT"
      },
      "source": [
        "## 3\\. Exploração Interativa de Dados"
      ]
    },
    {
      "cell_type": "markdown",
      "metadata": {
        "id": "AAwJC4RyS0xa"
      },
      "source": [
        "**negrito**### **3.1. KPIs**"
      ]
    },
    {
      "cell_type": "markdown",
      "metadata": {
        "id": "9LIHnwDuiN47"
      },
      "source": [
        "O dashboard de dados contem os seguintes indicadores chaves de desempenho (*key performance indicator* ou KPI) consolidados:"
      ]
    },
    {
      "cell_type": "markdown",
      "source": [
        "1. Casos e mortes nas 24 horas;\n",
        "1. Média móvel (7 dias) de casos e mortes;\n",
        "1. Tendência de casos e mortes;\n",
        "1. Proporção de vacinados com 1ª, 2ª e 3ª doses."
      ],
      "metadata": {
        "id": "rllIx255dOOu"
      }
    },
    {
      "cell_type": "markdown",
      "source": [
        "### **3.2. EDA**"
      ],
      "metadata": {
        "id": "QGWv8lw5YdUC"
      }
    },
    {
      "cell_type": "markdown",
      "source": [
        "O dashboard de dados contem os seguintes gráficos para a análise exploratória de dados (*exploratory data analysis*\n",
        "ou EDA) interativa:"
      ],
      "metadata": {
        "id": "AZPbGM3cdOyi"
      }
    },
    {
      "cell_type": "markdown",
      "source": [
        "1. Distribuição do números de casos e mortes ao longo do tempo;\n",
        "1. Distribuição da média móvel (7 dias) do números de casos e mortes ao longo do tempo;\n",
        "1. Distribuição geográfica dos casos por estado por dia."
      ],
      "metadata": {
        "id": "QuzfB5PmYjS9"
      }
    },
    {
      "cell_type": "markdown",
      "source": [
        "## 4\\. Storytelling"
      ],
      "metadata": {
        "id": "fGmO0I_ae62k"
      }
    },
    {
      "cell_type": "markdown",
      "source": [
        "Título: \"Impacto Global da Pandemia de COVID-19\"\n",
        "\n",
        "Capítulo 1: Casos de COVID-19\n",
        "\n",
        "No primeiro capítulo de nossa história, entramos em um mundo em que a COVID-19 se espalha por continentes e países. Na data de 13 de janeiro de 2021, esses são alguns dos números que moldam nosso presente:\n",
        "\n",
        "Em Afghanistan, houve 53,584 casos confirmados de COVID-19. Infelizmente, 2,301 pessoas perderam a vida, enquanto 44,608 se recuperaram.\n",
        "Na Albânia, o cenário é semelhante, com 64,627 casos confirmados. O país tem se esforçado para conter a propagação do vírus, mas 1,252 vidas foram perdidas.\n",
        "Mais ao norte, na Andorra, o número de casos é menor, 8,682, mas a taxa de letalidade é igualmente baixa, com 86 vítimas fatais.\n",
        "Aqui, vemos como a COVID-19 impacta diferentes regiões do mundo, cada uma com seus próprios desafios e realizações.\n",
        "\n",
        "Capítulo 2: Uma Perspectiva Mais Ampla\n",
        "\n",
        "Agora, vamos ampliar nossa visão e examinar o cenário global. Observando os dados de 2020-01-03, vemos um começo incerto:\n",
        "\n",
        "A nível global, os casos eram desconhecidos, e o mundo estava prestes a enfrentar uma pandemia.\n",
        "A Afghanistan já estava registrando seus primeiros casos, ainda sem números significativos.\n",
        "A base de dados nos diz que a população de Afghanistan naquele momento era de 41,128,772.\n",
        "Nesse momento inicial, a humanidade estava apenas começando a perceber a extensão do desafio que estava à sua frente.\n",
        "\n",
        "Capítulo 3: Excesso de Mortalidade\n",
        "\n",
        "Na medida em que avançamos na narrativa, nos deparamos com um conceito crucial: excesso de mortalidade. Este indicador nos ajuda a entender o impacto real da pandemia. Embora os números da COVID-19 sejam impressionantes, o excesso de mortalidade nos mostra o quadro completo.\n",
        "\n",
        "O excesso de mortalidade varia de país para país, e suas implicações são profundas. É uma medida de como a pandemia afetou a mortalidade geral em diferentes regiões do mundo.\n",
        "\n",
        "Conforme continuamos a nossa jornada, observamos não apenas as estatísticas, mas também a história da resiliência humana em face de um desafio global sem precedentes. A pandemia de COVID-19 nos lembra da importância da ciência, da solidariedade e do cuidado com a saúde em nosso mundo interconectado."
      ],
      "metadata": {
        "id": "cYti49IsBTW5"
      }
    }
  ]
}